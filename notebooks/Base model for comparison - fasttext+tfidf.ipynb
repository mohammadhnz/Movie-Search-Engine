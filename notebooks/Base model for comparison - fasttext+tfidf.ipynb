{
  "cells": [
    {
      "cell_type": "code",
      "execution_count": null,
      "source": [
        "from google.colab import drive\r\n",
        "drive.mount('/content/drive')\r\n",
        "\r\n",
        "address = \"Colab Notebooks\"\r\n",
        "import sys\r\n",
        "sys.path.append('/content/drive/My Drive/{}'.format(address))\r\n",
        "\r\n",
        "%cd /content/drive/My\\ Drive/$address"
      ],
      "outputs": [
        {
          "output_type": "stream",
          "name": "stdout",
          "text": [
            "Mounted at /content/drive\n",
            "/content/drive/My Drive/Colab Notebooks\n"
          ]
        }
      ],
      "metadata": {
        "colab": {
          "base_uri": "https://localhost:8080/"
        },
        "id": "0tEzvtKHZOnX",
        "outputId": "c15edbce-c24b-4ea6-c481-a7d8924a4f45"
      }
    },
    {
      "cell_type": "code",
      "execution_count": null,
      "source": [
        "import pandas as pd\r\n",
        "import numpy as np\r\n",
        "import seaborn as sns\r\n",
        "from matplotlib import pyplot as plt"
      ],
      "outputs": [],
      "metadata": {
        "id": "c90fd25b"
      }
    },
    {
      "cell_type": "markdown",
      "source": [
        "#Base model (using Fasttext Embeddings)"
      ],
      "metadata": {
        "id": "w0TsJQfhpU4f"
      }
    },
    {
      "cell_type": "code",
      "execution_count": null,
      "source": [
        "!pip install fasttext"
      ],
      "outputs": [
        {
          "output_type": "stream",
          "name": "stdout",
          "text": [
            "Collecting fasttext\n",
            "  Downloading fasttext-0.9.2.tar.gz (68 kB)\n",
            "\u001b[?25l     \u001b[90m━━━━━━━━━━━━━━━━━━━━━━━━━━━━━━━━━━━━━━━━\u001b[0m \u001b[32m0.0/68.8 kB\u001b[0m \u001b[31m?\u001b[0m eta \u001b[36m-:--:--\u001b[0m\r\u001b[2K     \u001b[91m━━━━━━━━━━━━━━━━━━━━━━━━━━━━━━━━━━━\u001b[0m\u001b[91m╸\u001b[0m\u001b[90m━━━━\u001b[0m \u001b[32m61.4/68.8 kB\u001b[0m \u001b[31m2.0 MB/s\u001b[0m eta \u001b[36m0:00:01\u001b[0m\r\u001b[2K     \u001b[90m━━━━━━━━━━━━━━━━━━━━━━━━━━━━━━━━━━━━━━━━\u001b[0m \u001b[32m68.8/68.8 kB\u001b[0m \u001b[31m1.7 MB/s\u001b[0m eta \u001b[36m0:00:00\u001b[0m\n",
            "\u001b[?25h  Preparing metadata (setup.py) ... \u001b[?25l\u001b[?25hdone\n",
            "Collecting pybind11>=2.2 (from fasttext)\n",
            "  Using cached pybind11-2.11.1-py3-none-any.whl (227 kB)\n",
            "Requirement already satisfied: setuptools>=0.7.0 in /usr/local/lib/python3.10/dist-packages (from fasttext) (67.7.2)\n",
            "Requirement already satisfied: numpy in /usr/local/lib/python3.10/dist-packages (from fasttext) (1.25.2)\n",
            "Building wheels for collected packages: fasttext\n",
            "  Building wheel for fasttext (setup.py) ... \u001b[?25l\u001b[?25hdone\n",
            "  Created wheel for fasttext: filename=fasttext-0.9.2-cp310-cp310-linux_x86_64.whl size=4199779 sha256=59e9080aade8ca6b0fb07f27adc78435a932c504089669871ba4fbef5b2f3e12\n",
            "  Stored in directory: /root/.cache/pip/wheels/a5/13/75/f811c84a8ab36eedbaef977a6a58a98990e8e0f1967f98f394\n",
            "Successfully built fasttext\n",
            "Installing collected packages: pybind11, fasttext\n",
            "Successfully installed fasttext-0.9.2 pybind11-2.11.1\n"
          ]
        }
      ],
      "metadata": {
        "colab": {
          "base_uri": "https://localhost:8080/"
        },
        "id": "LUgC29yJwa0H",
        "outputId": "dda4a87c-e045-49b9-f444-b44d8f9afbd8"
      }
    },
    {
      "cell_type": "code",
      "execution_count": null,
      "source": [
        "import fasttext\r\n",
        "from sklearn.feature_extraction.text import TfidfVectorizer\r\n",
        "from nltk import word_tokenize\r\n",
        "import nltk\r\n",
        "import string\r\n",
        "from nltk.corpus import stopwords\r\n",
        "import re\r\n",
        "import spacy\r\n",
        "from sklearn.metrics.pairwise import cosine_similarity"
      ],
      "outputs": [],
      "metadata": {
        "id": "KWsLy4Y7wGUp"
      }
    },
    {
      "cell_type": "code",
      "execution_count": null,
      "source": [
        "nltk.download('punkt')\r\n",
        "nltk.download('stopwords')\r\n",
        "nlp = spacy.load(\"en_core_web_sm\")"
      ],
      "outputs": [
        {
          "output_type": "stream",
          "name": "stderr",
          "text": [
            "[nltk_data] Downloading package punkt to /root/nltk_data...\n",
            "[nltk_data]   Unzipping tokenizers/punkt.zip.\n",
            "[nltk_data] Downloading package stopwords to /root/nltk_data...\n",
            "[nltk_data]   Unzipping corpora/stopwords.zip.\n"
          ]
        }
      ],
      "metadata": {
        "colab": {
          "base_uri": "https://localhost:8080/"
        },
        "id": "whDAPrVW8VUy",
        "outputId": "afb7b308-a9d3-4b27-babc-04440dddd0c0"
      }
    },
    {
      "cell_type": "markdown",
      "source": [
        "## Save and train the fasttext model"
      ],
      "metadata": {
        "id": "kmdCvWJg6227"
      }
    },
    {
      "cell_type": "markdown",
      "source": [
        "### Make dataset ready and save it"
      ],
      "metadata": {
        "id": "_pZBekPDcZHx"
      }
    },
    {
      "cell_type": "code",
      "execution_count": null,
      "source": [
        "movies_df = pd.read_csv('./Movies.csv')\r\n",
        "movies_df.iloc[100:105]"
      ],
      "outputs": [
        {
          "output_type": "execute_result",
          "data": {
            "application/vnd.google.colaboratory.intrinsic+json": {
              "type": "dataframe",
              "summary": "{\n  \"name\": \"movies_df\",\n  \"rows\": 5,\n  \"fields\": [\n    {\n      \"column\": \"Unnamed: 0\",\n      \"properties\": {\n        \"dtype\": \"number\",\n        \"std\": 1,\n        \"min\": 100,\n        \"max\": 104,\n        \"num_unique_values\": 5,\n        \"samples\": [\n          101,\n          104,\n          102\n        ],\n        \"semantic_type\": \"\",\n        \"description\": \"\"\n      }\n    },\n    {\n      \"column\": \"Genre\",\n      \"properties\": {\n        \"dtype\": \"string\",\n        \"num_unique_values\": 4,\n        \"samples\": [\n          \"western\",\n          \"comedy\",\n          \"drama\"\n        ],\n        \"semantic_type\": \"\",\n        \"description\": \"\"\n      }\n    },\n    {\n      \"column\": \"Origin/Ethnicity\",\n      \"properties\": {\n        \"dtype\": \"category\",\n        \"num_unique_values\": 1,\n        \"samples\": [\n          \"American\"\n        ],\n        \"semantic_type\": \"\",\n        \"description\": \"\"\n      }\n    },\n    {\n      \"column\": \"Plot\",\n      \"properties\": {\n        \"dtype\": \"string\",\n        \"num_unique_values\": 5,\n        \"samples\": [\n          \"James Wynnegate (Dustin Farnum) and his cousin, Henry (Monroe Salisbury), are upper class Englishmen and have been made trustees for an orphans\\u2019 fund. Henry loses money in a bet at a derby and embezzles money from \\u201cthe fund\\u201d to pay off his debts. When war office officials are informed of the money missing from \\u201cthe fund,\\\" they pursue James, but he successfully escapes to Wyoming. There, James rescues Nat-U-Ritch (Lillian St. Cyr), daughter to the chief of the Utes tribe, from local outlaw Cash Hawkins (William Elmer). Hawkins plans to exact his revenge on James, but has his plans thwarted by Nat-U-Ritch, who fatally shoots him. Later, James gets into an accident in the mountains and needs to be rescued. Nat-U-Ritch tracks him down and carries him back to safety. As she nurses him back to health, they fall in love and later have a child. Meanwhile, during an exploration of the Alps, Henry falls off a cliff. Before he succumbs to his injuries, Henry signs a letter of confession proclaiming James\\u2019 innocence in the embezzlement. Before Henry's widow, Lady Diana (Winifred Kingston), and others arrive in Wyoming to tell James about the news, the Sheriff recovers the murder weapon that was used against Cash Hawkins inside of James and Nat-U-Ritch's home. Realizing their son was not safe, the couple sends him away, leaving them both distraught. Facing the possibilities of losing both her son and her freedom, Nat-U-Ritch decides to take her own life instead. The movie ends with both the chief of the Utes tribe and James embracing her body. [1]\"\n        ],\n        \"semantic_type\": \"\",\n        \"description\": \"\"\n      }\n    },\n    {\n      \"column\": \"Release Year\",\n      \"properties\": {\n        \"dtype\": \"number\",\n        \"std\": 0,\n        \"min\": 1914,\n        \"max\": 1914,\n        \"num_unique_values\": 1,\n        \"samples\": [\n          1914\n        ],\n        \"semantic_type\": \"\",\n        \"description\": \"\"\n      }\n    },\n    {\n      \"column\": \"Title\",\n      \"properties\": {\n        \"dtype\": \"string\",\n        \"num_unique_values\": 5,\n        \"samples\": [\n          \"The Squaw Man\"\n        ],\n        \"semantic_type\": \"\",\n        \"description\": \"\"\n      }\n    }\n  ]\n}"
            },
            "text/html": [
              "\n",
              "  <div id=\"df-526a6c4f-1769-4b25-a0f9-ed9597cc4a13\" class=\"colab-df-container\">\n",
              "    <div>\n",
              "<style scoped>\n",
              "    .dataframe tbody tr th:only-of-type {\n",
              "        vertical-align: middle;\n",
              "    }\n",
              "\n",
              "    .dataframe tbody tr th {\n",
              "        vertical-align: top;\n",
              "    }\n",
              "\n",
              "    .dataframe thead th {\n",
              "        text-align: right;\n",
              "    }\n",
              "</style>\n",
              "<table border=\"1\" class=\"dataframe\">\n",
              "  <thead>\n",
              "    <tr style=\"text-align: right;\">\n",
              "      <th></th>\n",
              "      <th>Unnamed: 0</th>\n",
              "      <th>Genre</th>\n",
              "      <th>Origin/Ethnicity</th>\n",
              "      <th>Plot</th>\n",
              "      <th>Release Year</th>\n",
              "      <th>Title</th>\n",
              "    </tr>\n",
              "  </thead>\n",
              "  <tbody>\n",
              "    <tr>\n",
              "      <th>100</th>\n",
              "      <td>100</td>\n",
              "      <td>drama</td>\n",
              "      <td>American</td>\n",
              "      <td>Grace Roberts (played by Lea Leland), marries ...</td>\n",
              "      <td>1914</td>\n",
              "      <td>Should a Woman Divorce?</td>\n",
              "    </tr>\n",
              "    <tr>\n",
              "      <th>101</th>\n",
              "      <td>101</td>\n",
              "      <td>western</td>\n",
              "      <td>American</td>\n",
              "      <td>James Wynnegate (Dustin Farnum) and his cousin...</td>\n",
              "      <td>1914</td>\n",
              "      <td>The Squaw Man</td>\n",
              "    </tr>\n",
              "    <tr>\n",
              "      <th>102</th>\n",
              "      <td>102</td>\n",
              "      <td>unknown</td>\n",
              "      <td>American</td>\n",
              "      <td>Sad, lonely and unhappy, an old man sits in a ...</td>\n",
              "      <td>1914</td>\n",
              "      <td>Sweet and Low</td>\n",
              "    </tr>\n",
              "    <tr>\n",
              "      <th>103</th>\n",
              "      <td>103</td>\n",
              "      <td>comedy</td>\n",
              "      <td>American</td>\n",
              "      <td>The Masher played by Charlie Chaplin fights fo...</td>\n",
              "      <td>1914</td>\n",
              "      <td>Those Love Pangs</td>\n",
              "    </tr>\n",
              "    <tr>\n",
              "      <th>104</th>\n",
              "      <td>104</td>\n",
              "      <td>comedy</td>\n",
              "      <td>American</td>\n",
              "      <td>Charles Chaplin portrays a womanizing city man...</td>\n",
              "      <td>1914</td>\n",
              "      <td>Tillie's Punctured Romance</td>\n",
              "    </tr>\n",
              "  </tbody>\n",
              "</table>\n",
              "</div>\n",
              "    <div class=\"colab-df-buttons\">\n",
              "\n",
              "  <div class=\"colab-df-container\">\n",
              "    <button class=\"colab-df-convert\" onclick=\"convertToInteractive('df-526a6c4f-1769-4b25-a0f9-ed9597cc4a13')\"\n",
              "            title=\"Convert this dataframe to an interactive table.\"\n",
              "            style=\"display:none;\">\n",
              "\n",
              "  <svg xmlns=\"http://www.w3.org/2000/svg\" height=\"24px\" viewBox=\"0 -960 960 960\">\n",
              "    <path d=\"M120-120v-720h720v720H120Zm60-500h600v-160H180v160Zm220 220h160v-160H400v160Zm0 220h160v-160H400v160ZM180-400h160v-160H180v160Zm440 0h160v-160H620v160ZM180-180h160v-160H180v160Zm440 0h160v-160H620v160Z\"/>\n",
              "  </svg>\n",
              "    </button>\n",
              "\n",
              "  <style>\n",
              "    .colab-df-container {\n",
              "      display:flex;\n",
              "      gap: 12px;\n",
              "    }\n",
              "\n",
              "    .colab-df-convert {\n",
              "      background-color: #E8F0FE;\n",
              "      border: none;\n",
              "      border-radius: 50%;\n",
              "      cursor: pointer;\n",
              "      display: none;\n",
              "      fill: #1967D2;\n",
              "      height: 32px;\n",
              "      padding: 0 0 0 0;\n",
              "      width: 32px;\n",
              "    }\n",
              "\n",
              "    .colab-df-convert:hover {\n",
              "      background-color: #E2EBFA;\n",
              "      box-shadow: 0px 1px 2px rgba(60, 64, 67, 0.3), 0px 1px 3px 1px rgba(60, 64, 67, 0.15);\n",
              "      fill: #174EA6;\n",
              "    }\n",
              "\n",
              "    .colab-df-buttons div {\n",
              "      margin-bottom: 4px;\n",
              "    }\n",
              "\n",
              "    [theme=dark] .colab-df-convert {\n",
              "      background-color: #3B4455;\n",
              "      fill: #D2E3FC;\n",
              "    }\n",
              "\n",
              "    [theme=dark] .colab-df-convert:hover {\n",
              "      background-color: #434B5C;\n",
              "      box-shadow: 0px 1px 3px 1px rgba(0, 0, 0, 0.15);\n",
              "      filter: drop-shadow(0px 1px 2px rgba(0, 0, 0, 0.3));\n",
              "      fill: #FFFFFF;\n",
              "    }\n",
              "  </style>\n",
              "\n",
              "    <script>\n",
              "      const buttonEl =\n",
              "        document.querySelector('#df-526a6c4f-1769-4b25-a0f9-ed9597cc4a13 button.colab-df-convert');\n",
              "      buttonEl.style.display =\n",
              "        google.colab.kernel.accessAllowed ? 'block' : 'none';\n",
              "\n",
              "      async function convertToInteractive(key) {\n",
              "        const element = document.querySelector('#df-526a6c4f-1769-4b25-a0f9-ed9597cc4a13');\n",
              "        const dataTable =\n",
              "          await google.colab.kernel.invokeFunction('convertToInteractive',\n",
              "                                                    [key], {});\n",
              "        if (!dataTable) return;\n",
              "\n",
              "        const docLinkHtml = 'Like what you see? Visit the ' +\n",
              "          '<a target=\"_blank\" href=https://colab.research.google.com/notebooks/data_table.ipynb>data table notebook</a>'\n",
              "          + ' to learn more about interactive tables.';\n",
              "        element.innerHTML = '';\n",
              "        dataTable['output_type'] = 'display_data';\n",
              "        await google.colab.output.renderOutput(dataTable, element);\n",
              "        const docLink = document.createElement('div');\n",
              "        docLink.innerHTML = docLinkHtml;\n",
              "        element.appendChild(docLink);\n",
              "      }\n",
              "    </script>\n",
              "  </div>\n",
              "\n",
              "\n",
              "<div id=\"df-50aa22af-a516-430f-ab88-8713c4d2c254\">\n",
              "  <button class=\"colab-df-quickchart\" onclick=\"quickchart('df-50aa22af-a516-430f-ab88-8713c4d2c254')\"\n",
              "            title=\"Suggest charts\"\n",
              "            style=\"display:none;\">\n",
              "\n",
              "<svg xmlns=\"http://www.w3.org/2000/svg\" height=\"24px\"viewBox=\"0 0 24 24\"\n",
              "     width=\"24px\">\n",
              "    <g>\n",
              "        <path d=\"M19 3H5c-1.1 0-2 .9-2 2v14c0 1.1.9 2 2 2h14c1.1 0 2-.9 2-2V5c0-1.1-.9-2-2-2zM9 17H7v-7h2v7zm4 0h-2V7h2v10zm4 0h-2v-4h2v4z\"/>\n",
              "    </g>\n",
              "</svg>\n",
              "  </button>\n",
              "\n",
              "<style>\n",
              "  .colab-df-quickchart {\n",
              "      --bg-color: #E8F0FE;\n",
              "      --fill-color: #1967D2;\n",
              "      --hover-bg-color: #E2EBFA;\n",
              "      --hover-fill-color: #174EA6;\n",
              "      --disabled-fill-color: #AAA;\n",
              "      --disabled-bg-color: #DDD;\n",
              "  }\n",
              "\n",
              "  [theme=dark] .colab-df-quickchart {\n",
              "      --bg-color: #3B4455;\n",
              "      --fill-color: #D2E3FC;\n",
              "      --hover-bg-color: #434B5C;\n",
              "      --hover-fill-color: #FFFFFF;\n",
              "      --disabled-bg-color: #3B4455;\n",
              "      --disabled-fill-color: #666;\n",
              "  }\n",
              "\n",
              "  .colab-df-quickchart {\n",
              "    background-color: var(--bg-color);\n",
              "    border: none;\n",
              "    border-radius: 50%;\n",
              "    cursor: pointer;\n",
              "    display: none;\n",
              "    fill: var(--fill-color);\n",
              "    height: 32px;\n",
              "    padding: 0;\n",
              "    width: 32px;\n",
              "  }\n",
              "\n",
              "  .colab-df-quickchart:hover {\n",
              "    background-color: var(--hover-bg-color);\n",
              "    box-shadow: 0 1px 2px rgba(60, 64, 67, 0.3), 0 1px 3px 1px rgba(60, 64, 67, 0.15);\n",
              "    fill: var(--button-hover-fill-color);\n",
              "  }\n",
              "\n",
              "  .colab-df-quickchart-complete:disabled,\n",
              "  .colab-df-quickchart-complete:disabled:hover {\n",
              "    background-color: var(--disabled-bg-color);\n",
              "    fill: var(--disabled-fill-color);\n",
              "    box-shadow: none;\n",
              "  }\n",
              "\n",
              "  .colab-df-spinner {\n",
              "    border: 2px solid var(--fill-color);\n",
              "    border-color: transparent;\n",
              "    border-bottom-color: var(--fill-color);\n",
              "    animation:\n",
              "      spin 1s steps(1) infinite;\n",
              "  }\n",
              "\n",
              "  @keyframes spin {\n",
              "    0% {\n",
              "      border-color: transparent;\n",
              "      border-bottom-color: var(--fill-color);\n",
              "      border-left-color: var(--fill-color);\n",
              "    }\n",
              "    20% {\n",
              "      border-color: transparent;\n",
              "      border-left-color: var(--fill-color);\n",
              "      border-top-color: var(--fill-color);\n",
              "    }\n",
              "    30% {\n",
              "      border-color: transparent;\n",
              "      border-left-color: var(--fill-color);\n",
              "      border-top-color: var(--fill-color);\n",
              "      border-right-color: var(--fill-color);\n",
              "    }\n",
              "    40% {\n",
              "      border-color: transparent;\n",
              "      border-right-color: var(--fill-color);\n",
              "      border-top-color: var(--fill-color);\n",
              "    }\n",
              "    60% {\n",
              "      border-color: transparent;\n",
              "      border-right-color: var(--fill-color);\n",
              "    }\n",
              "    80% {\n",
              "      border-color: transparent;\n",
              "      border-right-color: var(--fill-color);\n",
              "      border-bottom-color: var(--fill-color);\n",
              "    }\n",
              "    90% {\n",
              "      border-color: transparent;\n",
              "      border-bottom-color: var(--fill-color);\n",
              "    }\n",
              "  }\n",
              "</style>\n",
              "\n",
              "  <script>\n",
              "    async function quickchart(key) {\n",
              "      const quickchartButtonEl =\n",
              "        document.querySelector('#' + key + ' button');\n",
              "      quickchartButtonEl.disabled = true;  // To prevent multiple clicks.\n",
              "      quickchartButtonEl.classList.add('colab-df-spinner');\n",
              "      try {\n",
              "        const charts = await google.colab.kernel.invokeFunction(\n",
              "            'suggestCharts', [key], {});\n",
              "      } catch (error) {\n",
              "        console.error('Error during call to suggestCharts:', error);\n",
              "      }\n",
              "      quickchartButtonEl.classList.remove('colab-df-spinner');\n",
              "      quickchartButtonEl.classList.add('colab-df-quickchart-complete');\n",
              "    }\n",
              "    (() => {\n",
              "      let quickchartButtonEl =\n",
              "        document.querySelector('#df-50aa22af-a516-430f-ab88-8713c4d2c254 button');\n",
              "      quickchartButtonEl.style.display =\n",
              "        google.colab.kernel.accessAllowed ? 'block' : 'none';\n",
              "    })();\n",
              "  </script>\n",
              "</div>\n",
              "    </div>\n",
              "  </div>\n"
            ],
            "text/plain": [
              "     Unnamed: 0    Genre Origin/Ethnicity  \\\n",
              "100         100    drama         American   \n",
              "101         101  western         American   \n",
              "102         102  unknown         American   \n",
              "103         103   comedy         American   \n",
              "104         104   comedy         American   \n",
              "\n",
              "                                                  Plot  Release Year  \\\n",
              "100  Grace Roberts (played by Lea Leland), marries ...          1914   \n",
              "101  James Wynnegate (Dustin Farnum) and his cousin...          1914   \n",
              "102  Sad, lonely and unhappy, an old man sits in a ...          1914   \n",
              "103  The Masher played by Charlie Chaplin fights fo...          1914   \n",
              "104  Charles Chaplin portrays a womanizing city man...          1914   \n",
              "\n",
              "                          Title  \n",
              "100     Should a Woman Divorce?  \n",
              "101               The Squaw Man  \n",
              "102               Sweet and Low  \n",
              "103            Those Love Pangs  \n",
              "104  Tillie's Punctured Romance  "
            ]
          },
          "metadata": {},
          "execution_count": 6
        }
      ],
      "metadata": {
        "colab": {
          "base_uri": "https://localhost:8080/",
          "height": 206
        },
        "id": "Ti8ZJAi-pf0e",
        "outputId": "904fd9ce-9eb1-48e6-f729-70a0c8fdc5d1"
      }
    },
    {
      "cell_type": "code",
      "execution_count": null,
      "source": [
        "stopwords_collection = set(stopwords.words('english'))\r\n",
        "\r\n",
        "def preprocess_text(text):\r\n",
        "    words = word_tokenize(text.lower())\r\n",
        "    words = [re.sub(r'[^\\w\\s]', '', word) for word in words]\r\n",
        "    words = [word for word in words if word not in stopwords_collection]\r\n",
        "    doc = nlp(' '.join(words))\r\n",
        "    lemmatized_words = [token.lemma_ for token in doc]\r\n",
        "    return ' '.join([word for word in lemmatized_words if len(word) >= 2])\r\n",
        "\r\n",
        "from tqdm import tqdm\r\n",
        "\r\n",
        "all_text_cleaned = [preprocess_text(plot + \" \" + title) for plot, title in tqdm(zip(movies_df['Plot'], movies_df['Title']), total=len(movies_df))]"
      ],
      "outputs": [
        {
          "output_type": "stream",
          "name": "stderr",
          "text": [
            "  0%|          | 114/36323 [00:08<50:57, 11.84it/s]  "
          ]
        },
        {
          "output_type": "error",
          "ename": "KeyboardInterrupt",
          "evalue": "",
          "traceback": [
            "\u001b[0;31m---------------------------------------------------------------------------\u001b[0m",
            "\u001b[0;31mKeyboardInterrupt\u001b[0m                         Traceback (most recent call last)",
            "\u001b[0;32m<ipython-input-7-cd8503b8f28e>\u001b[0m in \u001b[0;36m<cell line: 13>\u001b[0;34m()\u001b[0m\n\u001b[1;32m     11\u001b[0m \u001b[0;32mfrom\u001b[0m \u001b[0mtqdm\u001b[0m \u001b[0;32mimport\u001b[0m \u001b[0mtqdm\u001b[0m\u001b[0;34m\u001b[0m\u001b[0;34m\u001b[0m\u001b[0m\n\u001b[1;32m     12\u001b[0m \u001b[0;34m\u001b[0m\u001b[0m\n\u001b[0;32m---> 13\u001b[0;31m \u001b[0mall_text_cleaned\u001b[0m \u001b[0;34m=\u001b[0m \u001b[0;34m[\u001b[0m\u001b[0mpreprocess_text\u001b[0m\u001b[0;34m(\u001b[0m\u001b[0mplot\u001b[0m \u001b[0;34m+\u001b[0m \u001b[0;34m\" \"\u001b[0m \u001b[0;34m+\u001b[0m \u001b[0mtitle\u001b[0m\u001b[0;34m)\u001b[0m \u001b[0;32mfor\u001b[0m \u001b[0mplot\u001b[0m\u001b[0;34m,\u001b[0m \u001b[0mtitle\u001b[0m \u001b[0;32min\u001b[0m \u001b[0mtqdm\u001b[0m\u001b[0;34m(\u001b[0m\u001b[0mzip\u001b[0m\u001b[0;34m(\u001b[0m\u001b[0mmovies_df\u001b[0m\u001b[0;34m[\u001b[0m\u001b[0;34m'Plot'\u001b[0m\u001b[0;34m]\u001b[0m\u001b[0;34m,\u001b[0m \u001b[0mmovies_df\u001b[0m\u001b[0;34m[\u001b[0m\u001b[0;34m'Title'\u001b[0m\u001b[0;34m]\u001b[0m\u001b[0;34m)\u001b[0m\u001b[0;34m,\u001b[0m \u001b[0mtotal\u001b[0m\u001b[0;34m=\u001b[0m\u001b[0mlen\u001b[0m\u001b[0;34m(\u001b[0m\u001b[0mmovies_df\u001b[0m\u001b[0;34m)\u001b[0m\u001b[0;34m)\u001b[0m\u001b[0;34m]\u001b[0m\u001b[0;34m\u001b[0m\u001b[0;34m\u001b[0m\u001b[0m\n\u001b[0m",
            "\u001b[0;32m<ipython-input-7-cd8503b8f28e>\u001b[0m in \u001b[0;36m<listcomp>\u001b[0;34m(.0)\u001b[0m\n\u001b[1;32m     11\u001b[0m \u001b[0;32mfrom\u001b[0m \u001b[0mtqdm\u001b[0m \u001b[0;32mimport\u001b[0m \u001b[0mtqdm\u001b[0m\u001b[0;34m\u001b[0m\u001b[0;34m\u001b[0m\u001b[0m\n\u001b[1;32m     12\u001b[0m \u001b[0;34m\u001b[0m\u001b[0m\n\u001b[0;32m---> 13\u001b[0;31m \u001b[0mall_text_cleaned\u001b[0m \u001b[0;34m=\u001b[0m \u001b[0;34m[\u001b[0m\u001b[0mpreprocess_text\u001b[0m\u001b[0;34m(\u001b[0m\u001b[0mplot\u001b[0m \u001b[0;34m+\u001b[0m \u001b[0;34m\" \"\u001b[0m \u001b[0;34m+\u001b[0m \u001b[0mtitle\u001b[0m\u001b[0;34m)\u001b[0m \u001b[0;32mfor\u001b[0m \u001b[0mplot\u001b[0m\u001b[0;34m,\u001b[0m \u001b[0mtitle\u001b[0m \u001b[0;32min\u001b[0m \u001b[0mtqdm\u001b[0m\u001b[0;34m(\u001b[0m\u001b[0mzip\u001b[0m\u001b[0;34m(\u001b[0m\u001b[0mmovies_df\u001b[0m\u001b[0;34m[\u001b[0m\u001b[0;34m'Plot'\u001b[0m\u001b[0;34m]\u001b[0m\u001b[0;34m,\u001b[0m \u001b[0mmovies_df\u001b[0m\u001b[0;34m[\u001b[0m\u001b[0;34m'Title'\u001b[0m\u001b[0;34m]\u001b[0m\u001b[0;34m)\u001b[0m\u001b[0;34m,\u001b[0m \u001b[0mtotal\u001b[0m\u001b[0;34m=\u001b[0m\u001b[0mlen\u001b[0m\u001b[0;34m(\u001b[0m\u001b[0mmovies_df\u001b[0m\u001b[0;34m)\u001b[0m\u001b[0;34m)\u001b[0m\u001b[0;34m]\u001b[0m\u001b[0;34m\u001b[0m\u001b[0;34m\u001b[0m\u001b[0m\n\u001b[0m",
            "\u001b[0;32m<ipython-input-7-cd8503b8f28e>\u001b[0m in \u001b[0;36mpreprocess_text\u001b[0;34m(text)\u001b[0m\n\u001b[1;32m      5\u001b[0m     \u001b[0mwords\u001b[0m \u001b[0;34m=\u001b[0m \u001b[0;34m[\u001b[0m\u001b[0mre\u001b[0m\u001b[0;34m.\u001b[0m\u001b[0msub\u001b[0m\u001b[0;34m(\u001b[0m\u001b[0;34mr'[^\\w\\s]'\u001b[0m\u001b[0;34m,\u001b[0m \u001b[0;34m''\u001b[0m\u001b[0;34m,\u001b[0m \u001b[0mword\u001b[0m\u001b[0;34m)\u001b[0m \u001b[0;32mfor\u001b[0m \u001b[0mword\u001b[0m \u001b[0;32min\u001b[0m \u001b[0mwords\u001b[0m\u001b[0;34m]\u001b[0m\u001b[0;34m\u001b[0m\u001b[0;34m\u001b[0m\u001b[0m\n\u001b[1;32m      6\u001b[0m     \u001b[0mwords\u001b[0m \u001b[0;34m=\u001b[0m \u001b[0;34m[\u001b[0m\u001b[0mword\u001b[0m \u001b[0;32mfor\u001b[0m \u001b[0mword\u001b[0m \u001b[0;32min\u001b[0m \u001b[0mwords\u001b[0m \u001b[0;32mif\u001b[0m \u001b[0mword\u001b[0m \u001b[0;32mnot\u001b[0m \u001b[0;32min\u001b[0m \u001b[0mstopwords_collection\u001b[0m\u001b[0;34m]\u001b[0m\u001b[0;34m\u001b[0m\u001b[0;34m\u001b[0m\u001b[0m\n\u001b[0;32m----> 7\u001b[0;31m     \u001b[0mdoc\u001b[0m \u001b[0;34m=\u001b[0m \u001b[0mnlp\u001b[0m\u001b[0;34m(\u001b[0m\u001b[0;34m' '\u001b[0m\u001b[0;34m.\u001b[0m\u001b[0mjoin\u001b[0m\u001b[0;34m(\u001b[0m\u001b[0mwords\u001b[0m\u001b[0;34m)\u001b[0m\u001b[0;34m)\u001b[0m\u001b[0;34m\u001b[0m\u001b[0;34m\u001b[0m\u001b[0m\n\u001b[0m\u001b[1;32m      8\u001b[0m     \u001b[0mlemmatized_words\u001b[0m \u001b[0;34m=\u001b[0m \u001b[0;34m[\u001b[0m\u001b[0mtoken\u001b[0m\u001b[0;34m.\u001b[0m\u001b[0mlemma_\u001b[0m \u001b[0;32mfor\u001b[0m \u001b[0mtoken\u001b[0m \u001b[0;32min\u001b[0m \u001b[0mdoc\u001b[0m\u001b[0;34m]\u001b[0m\u001b[0;34m\u001b[0m\u001b[0;34m\u001b[0m\u001b[0m\n\u001b[1;32m      9\u001b[0m     \u001b[0;32mreturn\u001b[0m \u001b[0;34m' '\u001b[0m\u001b[0;34m.\u001b[0m\u001b[0mjoin\u001b[0m\u001b[0;34m(\u001b[0m\u001b[0;34m[\u001b[0m\u001b[0mword\u001b[0m \u001b[0;32mfor\u001b[0m \u001b[0mword\u001b[0m \u001b[0;32min\u001b[0m \u001b[0mlemmatized_words\u001b[0m \u001b[0;32mif\u001b[0m \u001b[0mlen\u001b[0m\u001b[0;34m(\u001b[0m\u001b[0mword\u001b[0m\u001b[0;34m)\u001b[0m \u001b[0;34m>=\u001b[0m \u001b[0;36m2\u001b[0m\u001b[0;34m]\u001b[0m\u001b[0;34m)\u001b[0m\u001b[0;34m\u001b[0m\u001b[0;34m\u001b[0m\u001b[0m\n",
            "\u001b[0;32m/usr/local/lib/python3.10/dist-packages/spacy/language.py\u001b[0m in \u001b[0;36m__call__\u001b[0;34m(self, text, disable, component_cfg)\u001b[0m\n\u001b[1;32m   1047\u001b[0m                 \u001b[0merror_handler\u001b[0m \u001b[0;34m=\u001b[0m \u001b[0mproc\u001b[0m\u001b[0;34m.\u001b[0m\u001b[0mget_error_handler\u001b[0m\u001b[0;34m(\u001b[0m\u001b[0;34m)\u001b[0m\u001b[0;34m\u001b[0m\u001b[0;34m\u001b[0m\u001b[0m\n\u001b[1;32m   1048\u001b[0m             \u001b[0;32mtry\u001b[0m\u001b[0;34m:\u001b[0m\u001b[0;34m\u001b[0m\u001b[0;34m\u001b[0m\u001b[0m\n\u001b[0;32m-> 1049\u001b[0;31m                 \u001b[0mdoc\u001b[0m \u001b[0;34m=\u001b[0m \u001b[0mproc\u001b[0m\u001b[0;34m(\u001b[0m\u001b[0mdoc\u001b[0m\u001b[0;34m,\u001b[0m \u001b[0;34m**\u001b[0m\u001b[0mcomponent_cfg\u001b[0m\u001b[0;34m.\u001b[0m\u001b[0mget\u001b[0m\u001b[0;34m(\u001b[0m\u001b[0mname\u001b[0m\u001b[0;34m,\u001b[0m \u001b[0;34m{\u001b[0m\u001b[0;34m}\u001b[0m\u001b[0;34m)\u001b[0m\u001b[0;34m)\u001b[0m  \u001b[0;31m# type: ignore[call-arg]\u001b[0m\u001b[0;34m\u001b[0m\u001b[0;34m\u001b[0m\u001b[0m\n\u001b[0m\u001b[1;32m   1050\u001b[0m             \u001b[0;32mexcept\u001b[0m \u001b[0mKeyError\u001b[0m \u001b[0;32mas\u001b[0m \u001b[0me\u001b[0m\u001b[0;34m:\u001b[0m\u001b[0;34m\u001b[0m\u001b[0;34m\u001b[0m\u001b[0m\n\u001b[1;32m   1051\u001b[0m                 \u001b[0;31m# This typically happens if a component is not initialized\u001b[0m\u001b[0;34m\u001b[0m\u001b[0;34m\u001b[0m\u001b[0m\n",
            "\u001b[0;32m/usr/local/lib/python3.10/dist-packages/spacy/pipeline/trainable_pipe.pyx\u001b[0m in \u001b[0;36mspacy.pipeline.trainable_pipe.TrainablePipe.__call__\u001b[0;34m()\u001b[0m\n",
            "\u001b[0;32m/usr/local/lib/python3.10/dist-packages/spacy/pipeline/transition_parser.pyx\u001b[0m in \u001b[0;36mspacy.pipeline.transition_parser.Parser.set_annotations\u001b[0;34m()\u001b[0m\n",
            "\u001b[0;32m/usr/local/lib/python3.10/dist-packages/spacy/pipeline/_parser_internals/ner.pyx\u001b[0m in \u001b[0;36mspacy.pipeline._parser_internals.ner.BiluoPushDown.set_annotations\u001b[0;34m()\u001b[0m\n",
            "\u001b[0;32m/usr/local/lib/python3.10/dist-packages/spacy/tokens/doc.pyx\u001b[0m in \u001b[0;36mspacy.tokens.doc.Doc.set_ents\u001b[0;34m()\u001b[0m\n",
            "\u001b[0;32m/usr/local/lib/python3.10/dist-packages/spacy/tokens/doc.pyx\u001b[0m in \u001b[0;36mspacy.tokens.doc.SetEntsDefault.values\u001b[0;34m()\u001b[0m\n",
            "\u001b[0;32m/usr/lib/python3.10/enum.py\u001b[0m in \u001b[0;36m__members__\u001b[0;34m(cls)\u001b[0m\n\u001b[1;32m    449\u001b[0m         \u001b[0;32mreturn\u001b[0m \u001b[0mlen\u001b[0m\u001b[0;34m(\u001b[0m\u001b[0mcls\u001b[0m\u001b[0;34m.\u001b[0m\u001b[0m_member_names_\u001b[0m\u001b[0;34m)\u001b[0m\u001b[0;34m\u001b[0m\u001b[0;34m\u001b[0m\u001b[0m\n\u001b[1;32m    450\u001b[0m \u001b[0;34m\u001b[0m\u001b[0m\n\u001b[0;32m--> 451\u001b[0;31m     \u001b[0;34m@\u001b[0m\u001b[0mproperty\u001b[0m\u001b[0;34m\u001b[0m\u001b[0;34m\u001b[0m\u001b[0m\n\u001b[0m\u001b[1;32m    452\u001b[0m     \u001b[0;32mdef\u001b[0m \u001b[0m__members__\u001b[0m\u001b[0;34m(\u001b[0m\u001b[0mcls\u001b[0m\u001b[0;34m)\u001b[0m\u001b[0;34m:\u001b[0m\u001b[0;34m\u001b[0m\u001b[0;34m\u001b[0m\u001b[0m\n\u001b[1;32m    453\u001b[0m         \"\"\"\n",
            "\u001b[0;31mKeyboardInterrupt\u001b[0m: "
          ]
        }
      ],
      "metadata": {
        "id": "Dv-HuMHmszSr",
        "colab": {
          "base_uri": "https://localhost:8080/",
          "height": 339
        },
        "outputId": "32cf5250-ca5c-4630-b400-aea4f6a850ce"
      }
    },
    {
      "cell_type": "code",
      "execution_count": null,
      "source": [
        "with open(\"all_text_cleaned.txt\", \"w\") as file:\r\n",
        "    file.write(\"===\\n\".join(all_text_cleaned))"
      ],
      "outputs": [
        {
          "output_type": "error",
          "ename": "NameError",
          "evalue": "name 'all_text_cleaned' is not defined",
          "traceback": [
            "\u001b[0;31m---------------------------------------------------------------------------\u001b[0m",
            "\u001b[0;31mNameError\u001b[0m                                 Traceback (most recent call last)",
            "\u001b[0;32m<ipython-input-1-e0e0d88f8be9>\u001b[0m in \u001b[0;36m<cell line: 1>\u001b[0;34m()\u001b[0m\n\u001b[1;32m      1\u001b[0m \u001b[0;32mwith\u001b[0m \u001b[0mopen\u001b[0m\u001b[0;34m(\u001b[0m\u001b[0;34m\"all_text_cleaned.txt\"\u001b[0m\u001b[0;34m,\u001b[0m \u001b[0;34m\"w\"\u001b[0m\u001b[0;34m)\u001b[0m \u001b[0;32mas\u001b[0m \u001b[0mfile\u001b[0m\u001b[0;34m:\u001b[0m\u001b[0;34m\u001b[0m\u001b[0;34m\u001b[0m\u001b[0m\n\u001b[0;32m----> 2\u001b[0;31m     \u001b[0mfile\u001b[0m\u001b[0;34m.\u001b[0m\u001b[0mwrite\u001b[0m\u001b[0;34m(\u001b[0m\u001b[0;34m\"===\\n\"\u001b[0m\u001b[0;34m.\u001b[0m\u001b[0mjoin\u001b[0m\u001b[0;34m(\u001b[0m\u001b[0mall_text_cleaned\u001b[0m\u001b[0;34m)\u001b[0m\u001b[0;34m)\u001b[0m\u001b[0;34m\u001b[0m\u001b[0;34m\u001b[0m\u001b[0m\n\u001b[0m",
            "\u001b[0;31mNameError\u001b[0m: name 'all_text_cleaned' is not defined"
          ]
        }
      ],
      "metadata": {
        "id": "2lgU8Noha8Yi",
        "colab": {
          "base_uri": "https://localhost:8080/",
          "height": 159
        },
        "outputId": "41d89671-5540-4400-b16f-1e82bc87741d"
      }
    },
    {
      "cell_type": "markdown",
      "source": [
        "### Train a fasttext model"
      ],
      "metadata": {
        "id": "bSv1dPKh0kEe"
      }
    },
    {
      "cell_type": "code",
      "execution_count": null,
      "source": [
        "all_text_cleaned = []\r\n",
        "with open(\"all_text_cleaned.txt\", \"r\") as file:\r\n",
        "    content = file.read()\r\n",
        "    all_text_cleaned = content.split(\"===\")\r\n",
        "\r\n",
        "all_text_cleaned = [item.strip() for item in all_text_cleaned if item.strip()]"
      ],
      "outputs": [],
      "metadata": {
        "id": "nU36vWFjbNKX"
      }
    },
    {
      "cell_type": "code",
      "execution_count": null,
      "source": [
        "print(all_text_cleaned[50])"
      ],
      "outputs": [
        {
          "output_type": "stream",
          "name": "stdout",
          "text": [
            "physician death orphan two adolescent daughter old brother able convert doctor small estate cash late day bank close store money father household safe slatternly housekeeper aware money enlist criminal acquaintance help crack safe lock daughter adjacent room drunken housekeeper menace brandish gun hole wall resourceful girl use telephone call brother return town get message organize rescue party    unseen enemy\n"
          ]
        }
      ],
      "metadata": {
        "colab": {
          "base_uri": "https://localhost:8080/"
        },
        "id": "orpUmOqb-JDs",
        "outputId": "48bf94f0-32ea-49e6-8206-67266f0d0cc6"
      }
    },
    {
      "cell_type": "code",
      "execution_count": null,
      "source": [
        "class FastText:\r\n",
        "    def __init__(self, method='skipgram'):\r\n",
        "        self.method = method\r\n",
        "        self.model = None\r\n",
        "\r\n",
        "    def train(self, texts):\r\n",
        "        with open('training_data.txt', 'w', encoding='utf-8') as file:\r\n",
        "            for t in texts:\r\n",
        "                file.write(t + '\\n')\r\n",
        "        self.model = fasttext.train_unsupervised('training_data.txt', model=self.method, dim=300)\r\n",
        "\r\n",
        "    def save_FastText_model(self, path='FastText_model.bin'):\r\n",
        "        self.model.save_model(path)\r\n",
        "\r\n",
        "    def load_FastText_model(self, path=\"FastText_model.bin\"):\r\n",
        "        self.model = fasttext.load_model(path)\r\n",
        "\r\n",
        "fasttext_model = FastText()"
      ],
      "outputs": [],
      "metadata": {
        "id": "LIVhil6YrBTf"
      }
    },
    {
      "cell_type": "code",
      "execution_count": null,
      "source": [
        "fasttext_model.train(all_text_cleaned)\r\n",
        "fasttext_model.save_FastText_model()"
      ],
      "outputs": [
        {
          "output_type": "error",
          "ename": "NameError",
          "evalue": "name 'fasttext' is not defined",
          "traceback": [
            "\u001b[0;31m---------------------------------------------------------------------------\u001b[0m",
            "\u001b[0;31mNameError\u001b[0m                                 Traceback (most recent call last)",
            "\u001b[0;32m<ipython-input-10-e71c861fd50f>\u001b[0m in \u001b[0;36m<cell line: 1>\u001b[0;34m()\u001b[0m\n\u001b[0;32m----> 1\u001b[0;31m \u001b[0mfasttext_model\u001b[0m\u001b[0;34m.\u001b[0m\u001b[0mtrain\u001b[0m\u001b[0;34m(\u001b[0m\u001b[0mall_text_cleaned\u001b[0m\u001b[0;34m)\u001b[0m\u001b[0;34m\u001b[0m\u001b[0;34m\u001b[0m\u001b[0m\n\u001b[0m\u001b[1;32m      2\u001b[0m \u001b[0mfasttext_model\u001b[0m\u001b[0;34m.\u001b[0m\u001b[0msave_FastText_model\u001b[0m\u001b[0;34m(\u001b[0m\u001b[0;34m)\u001b[0m\u001b[0;34m\u001b[0m\u001b[0;34m\u001b[0m\u001b[0m\n",
            "\u001b[0;32m<ipython-input-8-3d930487c426>\u001b[0m in \u001b[0;36mtrain\u001b[0;34m(self, texts)\u001b[0m\n\u001b[1;32m      8\u001b[0m             \u001b[0;32mfor\u001b[0m \u001b[0mt\u001b[0m \u001b[0;32min\u001b[0m \u001b[0mtexts\u001b[0m\u001b[0;34m:\u001b[0m\u001b[0;34m\u001b[0m\u001b[0;34m\u001b[0m\u001b[0m\n\u001b[1;32m      9\u001b[0m                 \u001b[0mfile\u001b[0m\u001b[0;34m.\u001b[0m\u001b[0mwrite\u001b[0m\u001b[0;34m(\u001b[0m\u001b[0mt\u001b[0m \u001b[0;34m+\u001b[0m \u001b[0;34m'\\n'\u001b[0m\u001b[0;34m)\u001b[0m\u001b[0;34m\u001b[0m\u001b[0;34m\u001b[0m\u001b[0m\n\u001b[0;32m---> 10\u001b[0;31m         \u001b[0mself\u001b[0m\u001b[0;34m.\u001b[0m\u001b[0mmodel\u001b[0m \u001b[0;34m=\u001b[0m \u001b[0mfasttext\u001b[0m\u001b[0;34m.\u001b[0m\u001b[0mtrain_unsupervised\u001b[0m\u001b[0;34m(\u001b[0m\u001b[0;34m'training_data.txt'\u001b[0m\u001b[0;34m,\u001b[0m \u001b[0mmodel\u001b[0m\u001b[0;34m=\u001b[0m\u001b[0mself\u001b[0m\u001b[0;34m.\u001b[0m\u001b[0mmethod\u001b[0m\u001b[0;34m,\u001b[0m \u001b[0mdim\u001b[0m\u001b[0;34m=\u001b[0m\u001b[0;36m300\u001b[0m\u001b[0;34m)\u001b[0m\u001b[0;34m\u001b[0m\u001b[0;34m\u001b[0m\u001b[0m\n\u001b[0m\u001b[1;32m     11\u001b[0m \u001b[0;34m\u001b[0m\u001b[0m\n\u001b[1;32m     12\u001b[0m     \u001b[0;32mdef\u001b[0m \u001b[0msave_FastText_model\u001b[0m\u001b[0;34m(\u001b[0m\u001b[0mself\u001b[0m\u001b[0;34m,\u001b[0m \u001b[0mpath\u001b[0m\u001b[0;34m=\u001b[0m\u001b[0;34m'FastText_model.bin'\u001b[0m\u001b[0;34m)\u001b[0m\u001b[0;34m:\u001b[0m\u001b[0;34m\u001b[0m\u001b[0;34m\u001b[0m\u001b[0m\n",
            "\u001b[0;31mNameError\u001b[0m: name 'fasttext' is not defined"
          ]
        }
      ],
      "metadata": {
        "id": "DwT5kyJuy5Po",
        "colab": {
          "base_uri": "https://localhost:8080/",
          "height": 280
        },
        "outputId": "1a1b6f10-e4bc-4b69-b1ba-3f7228e9abca"
      }
    },
    {
      "cell_type": "code",
      "execution_count": null,
      "source": [
        "fasttext_model.load_FastText_model()\r\n",
        "\r\n",
        "word_to_query = 'laptop'\r\n",
        "num_neighbors = 10\r\n",
        "nearest_neighbors = fasttext_model.model.get_nearest_neighbors(word_to_query, k=num_neighbors)\r\n",
        "\r\n",
        "print(f\"Nearest neighbors of '{word_to_query}':\")\r\n",
        "for neighbor, similarity in nearest_neighbors:\r\n",
        "    print(f\"{neighbor}: {similarity}\")"
      ],
      "outputs": [
        {
          "output_type": "stream",
          "name": "stderr",
          "text": [
            "Warning : `load_model` does not return WordVectorModel or SupervisedModel any more, but a `FastText` object which is very similar.\n"
          ]
        },
        {
          "output_type": "stream",
          "name": "stdout",
          "text": [
            "Nearest neighbors of 'laptop':\n",
            "0.5844805836677551: database\n",
            "0.5773231387138367: desktop\n",
            "0.5691365003585815: cellphone\n",
            "0.5649459362030029: upload\n",
            "0.5645779371261597: download\n",
            "0.5615304708480835: monogrammed\n",
            "0.5611780881881714: uploaded\n",
            "0.5550886988639832: usb\n",
            "0.5547577738761902: audiotape\n",
            "0.5524214506149292: vcr\n"
          ]
        }
      ],
      "metadata": {
        "colab": {
          "base_uri": "https://localhost:8080/"
        },
        "id": "_eR7o_ez6ypJ",
        "outputId": "8b24c6c7-75f5-4ab2-a199-8187355ab032"
      }
    },
    {
      "cell_type": "markdown",
      "source": [
        "## Use TF-IDF weighting to find sentense embedding"
      ],
      "metadata": {
        "id": "HTYIoKGzxEn1"
      }
    },
    {
      "cell_type": "code",
      "execution_count": null,
      "source": [
        "class TF_IDF:\r\n",
        "\r\n",
        "    def __init__(self):\r\n",
        "        self.vectorizer = TfidfVectorizer()\r\n",
        "\r\n",
        "    def fit_vectorizer(self, data):\r\n",
        "        self.vectorizer.fit(data)\r\n",
        "\r\n",
        "    def transform(self, data):\r\n",
        "        tfidf_matrix = self.vectorizer.transform(data)\r\n",
        "        return tfidf_matrix"
      ],
      "outputs": [],
      "metadata": {
        "id": "5lcHOTkTxRCB"
      }
    },
    {
      "cell_type": "code",
      "execution_count": null,
      "source": [
        "tfidf = TF_IDF()\r\n",
        "\r\n",
        "tfidf.fit_vectorizer(all_text_cleaned)\r\n",
        "tfidf_matrix = tfidf.transform(all_text_cleaned)\r\n",
        "\r\n",
        "feature_names = tfidf.vectorizer.get_feature_names_out()\r\n",
        "\r\n",
        "document_index = 0\r\n",
        "tfidf_representation = tfidf_matrix[document_index]\r\n",
        "\r\n",
        "tfidf_values = tfidf_representation.toarray()[0]\r\n",
        "top_n_indices = tfidf_values.argsort()[-10:][::-1]\r\n",
        "print(f\"\\nTop 10 Words with Highest TF-IDF Values for Document at index: {document_index}:\")\r\n",
        "for index in top_n_indices:\r\n",
        "    print(f\"{feature_names[index]}: {tfidf_values[index]}     {index}\")"
      ],
      "outputs": [
        {
          "output_type": "stream",
          "name": "stdout",
          "text": [
            "\n",
            "Top 10 Words with Highest TF-IDF Values for Document at index: 0:\n",
            "bartender: 0.29308512456178026     13642\n",
            "beer: 0.28166509288249064     14580\n",
            "saloon: 0.27548777678209346     116420\n",
            "irish: 0.2753074211837885     64072\n",
            "nation: 0.2624965967846531     92044\n",
            "smasher: 0.22456260882197238     125172\n",
            "seltzer: 0.22099701477824932     119914\n",
            "stereotypically: 0.20852971515457158     128604\n",
            "fixture: 0.19558547953736938     46086\n",
            "carrie: 0.16523385229838966     22851\n"
          ]
        }
      ],
      "metadata": {
        "colab": {
          "base_uri": "https://localhost:8080/"
        },
        "id": "N_lVj-TmxX99",
        "outputId": "923e4c2a-fc87-4375-b49d-b7af5bc02ce0"
      }
    },
    {
      "cell_type": "code",
      "execution_count": null,
      "source": [
        "def get_sentence_embedding(model, sentence, tf_idf_vectorizer):\r\n",
        "    w = tf_idf_vectorizer.transform([sentence])\r\n",
        "    embedding = np.zeros(300)\r\n",
        "    for word in list(set(sentence.split())):\r\n",
        "        try:\r\n",
        "            embedding += model.get_word_vector(word) * w[0, tfidf.vectorizer.vocabulary_[word]]\r\n",
        "        except:\r\n",
        "            pass\r\n",
        "    return embedding"
      ],
      "outputs": [],
      "metadata": {
        "id": "FhI6b3pxypL2"
      }
    },
    {
      "cell_type": "code",
      "execution_count": null,
      "source": [
        "def find_two_queries_similarity(query1, query2):\r\n",
        "  query_embedding1 = get_sentence_embedding(fasttext_model.model, query1.lower(), tfidf.vectorizer)\r\n",
        "  query_embedding2 = get_sentence_embedding(fasttext_model.model, query2.lower(), tfidf.vectorizer)\r\n",
        "  return cosine_similarity([query_embedding1], [query_embedding2])[0][0]\r\n",
        "\r\n",
        "find_two_queries_similarity(\"young boy is playing\", \"happy kid is playing\")"
      ],
      "outputs": [
        {
          "output_type": "execute_result",
          "data": {
            "text/plain": [
              "0.8416289399823016"
            ]
          },
          "metadata": {},
          "execution_count": 16
        }
      ],
      "metadata": {
        "colab": {
          "base_uri": "https://localhost:8080/"
        },
        "id": "NnlsJaO8yqBW",
        "outputId": "6229dd30-43f6-4092-ee1a-5437030552a7"
      }
    },
    {
      "cell_type": "code",
      "execution_count": null,
      "source": [
        "document_embeddings = [get_sentence_embedding(fasttext_model.model, doc, tfidf.vectorizer) for doc in all_text_cleaned]"
      ],
      "outputs": [],
      "metadata": {
        "id": "7eZ6SrjQzyT7"
      }
    },
    {
      "cell_type": "markdown",
      "source": [
        "## Retrieve using these embeddings"
      ],
      "metadata": {
        "id": "Fil0Vo3PzjDN"
      }
    },
    {
      "cell_type": "code",
      "execution_count": null,
      "source": [
        "movies_df_with_embeddings = movies_df.copy()\r\n",
        "movies_df_with_embeddings['emb'] = document_embeddings\r\n",
        "movies_df_with_embeddings.head()"
      ],
      "outputs": [
        {
          "output_type": "execute_result",
          "data": {
            "application/vnd.google.colaboratory.intrinsic+json": {
              "type": "dataframe",
              "variable_name": "movies_df_with_embeddings",
              "summary": "{\n  \"name\": \"movies_df_with_embeddings\",\n  \"rows\": 36323,\n  \"fields\": [\n    {\n      \"column\": \"Unnamed: 0\",\n      \"properties\": {\n        \"dtype\": \"number\",\n        \"std\": 10485,\n        \"min\": 0,\n        \"max\": 36322,\n        \"num_unique_values\": 36323,\n        \"samples\": [\n          19189,\n          2207,\n          4214\n        ],\n        \"semantic_type\": \"\",\n        \"description\": \"\"\n      }\n    },\n    {\n      \"column\": \"Genre\",\n      \"properties\": {\n        \"dtype\": \"category\",\n        \"num_unique_values\": 2282,\n        \"samples\": [\n          \"animation / children\",\n          \"suspense, thriller\",\n          \"action, adventure, fantasy, sci-fi\"\n        ],\n        \"semantic_type\": \"\",\n        \"description\": \"\"\n      }\n    },\n    {\n      \"column\": \"Origin/Ethnicity\",\n      \"properties\": {\n        \"dtype\": \"category\",\n        \"num_unique_values\": 25,\n        \"samples\": [\n          \"Filipino\",\n          \"Tamil\",\n          \"American\"\n        ],\n        \"semantic_type\": \"\",\n        \"description\": \"\"\n      }\n    },\n    {\n      \"column\": \"Plot\",\n      \"properties\": {\n        \"dtype\": \"string\",\n        \"num_unique_values\": 35101,\n        \"samples\": [\n          \"Jack Burden, a Louisiana news reporter, takes a personal interest in Willie Stark, an idealistic small-town lawyer and parish treasurer. Circumstances develop that result in Tiny Duffy, a local political leader Burden knows, urging Stark to run for governor. Burden\\u2019s upbringing makes him familiar with the undercurrent of politics \\u2013 he was raised by his loving godfather Judge Irwin, a former state attorney general, while his good friend, Dr. Adam Stanton, and his sister Anne Stanton -- also Burden\\u2019s former lover -- are the children of a former governor. Burden therefore decides to take Duffy's advice and travels as a reporter on Stark's campaign for governor.\\r\\nThe politically astute Burden soon deduces, and Duffy strategist (and Stark mistress) Sadie Burke confirms, that Duffy is using Stark to split his party's vote and thus allow the opposing party to win. They tell Stark, who begins to give speeches in a straightforward manner to appeal to the public, in defiance of the advice given to him by Duffy. His vigorous strategy attacks the corruption of the existing players and promises schools and roads for his \\u201cfellow ignorant hicks\\u201d, resulting in Stark winning the election. He manages Duffy by making him his lieutenant governor. Stark recruits Burden to work for him as an adviser.\\r\\nStark proves to be a very persuasive governor, delivering on many of his new projects. Irwin disapproves of Stark and publicly supports an investigation of possible graft in the new spending. Burden points out that graft is the elite\\u2019s word for what the previous politicians had always done, while Stark openly tells his crowds that his \\u201ccrooks, unlike theirs, are itty bitty\\u201d compared to the elite\\u2019s. Stark convinces Stanton to head a new public hospital while he begins having an affair with Anne, provoking Burke's jealousy and Burden's disappointment.\\r\\nIrwin continues criticizing Stark as political controversies begin to unfold. Stark demands that Burden seek information on the judge to be used against him. Jack insists that there is no such information, but eventually discovers evidence of a bribe that Irwin used to get his appointment many years prior, leading an opponent to commit suicide. Following this revelation, Irwin himself commits suicide. Burden\\u2019s mother then tells him that Irwin treated him with such love because he was his biological father, which causes a great amount of guilt for Burden.\\r\\nStark utilizes many methods of corruption to consolidate his power, including patronage and intimidation. Adam is told that Stark is using the hospital project to rob the state and is framing him in the process. Burden and Anne both assure Adam that this is false. Adam also becomes enraged when he learns of Stark's affair with his sister. Adam waits at the state capitol and assassinates Stark, only to be immediately killed by the governor's bodyguard. It is later revealed that Adam was influenced by Duffy and Burke to murder Stark, allowing Duffy to succeed Stark as governor.\",\n          \"Cinderella is a kind young woman who lives with her wicked stepmother and ugly stepsisters. They abuse her and use her as the house maid. Cinderella thinks she's all alone in the world, but doesn't know a fairy godmother is constantly helping her. One day, she is collecting wood from the forest and meets Prince Charming. They immediately fall in love with each other, but lose contact. Soon, a ball is arranged by the prince to look for his future wife. The stepsisters think they make a great chance in being chosen by the prince. Cinderella wants to go as well, but isn't allowed to by her cruel family.\\r\\nThe sisters go to a fortune teller, who announces a member of the family will be chosen by the prince. The sisters are delighted and think it will be one of the two of them. When they leave for the ball, Cinderella is left behind. The fairy godmother appears and asks if she wants to go to the ball as well. When Cinderella responds positively, the fairy godmother orders her to bring her the biggest pumpkin she can find. Cinderella does so and the fairy godmother changes it into a luxurious stage coach. She next asks for the smallest mice she can find. Cinderella brings her some mice from the house and the fairy godmother changes them into horses.\\r\\nThe fairy godmother next orders her to bring her the biggest rats there are. After Cinderella collected them, the fairy godmother changes them into servants. She finally changes Cinderella's poor maiden costume into a dress fit for a princess, and glass slippers, of course. She reminds Cinderella she will have to be back at home before the clock strikes midnight. Otherwise, her fine dress will turn into rags and the coach and servants will become what they were before.\\r\\nAs Cinderella arrives at the party, Prince Charming is already busy looking for his future wife. It is soon announced an unknown lady has arrived in a coach. Prince Charming immediately chooses her and they go to a private place where they learn to know each other. As they flirt, Cinderella notices it is almost twelve o'clock and storms out. She loses her glass slipper, before she turns into her old poor self again.\\r\\nThe next day, the royal heralds announce the Prince's wish to marry the woman whose foot fits the lost glass slipper. The sisters go to the palace to try fit their feet into the slippers, while Cinderella is yet again forced to stay home. It becomes clear the royal heralds every woman of the town has tried but failed to wear the slippers, except for Cinderella. Prince Charming immediately goes to visit her and is shocked when he finds out she is a poor maid. He doesn't turn his back against her, though, and he invites her to try on the slipper. When she does, she is announced as the future princess. The royal heralds give her the opportunity to behead her sisters, but she refuses to.\\r\\nIn the final scene, the fairy godmother appears and blesses her. Cinderella and Prince Charming live happily ever after.\",\n          \"Muniyandi (Bharath), a third year under-graduate zoology student and the son of Muthumani (Ponvannan), who happens to be student canteen contractor of the same college. He meets Madumitha (Poorna), demure young daughter of a local bigwig, Ramaiyya who gives first priority only to the members of his caste. Madumitha makes a coquettish play for all of Muniyandi's friends including Sorimuthu Ayyanar (Vadivelu), a part-time witch-doctor also peon of the college, dressed complete with bells and saffron cloth regalia, but hits it off with him first. Following a heated skirmish in the caste-dominated college elections, the two fall in love. But everything goes topsy-turvy when, once Madumitha's marriage is arranged, she turns around and says that she was never in love with Muniyandi in the first place. Furious, the Muniyandi thrashes her with his slippers and sets fire to her father's coconut grove. Though she never reveal to this incident to anyone, Muniyandi on other hand discovers the secret behind his brothers death. Muni's brother was killed when he tries to help his friend who is in love with a girl of the other caste. Muni participates in college elections to go against Madhu's words. On the day of nomination Muni realizes that Madhu love him truly but had reverted from her feelings due to the request from his father to save his life. Muni convinces college students from conducting election in college and put a stop caste game in college. Ramaiyya and the other caste head were supposed to be killed by Raju (Muni's brothers friend and the old girl's lover), which Muni thwarts. Finally, Muni, with his father's acceptance, returns to Madhu (who was waiting for him near the temple) and unites with her.\"\n        ],\n        \"semantic_type\": \"\",\n        \"description\": \"\"\n      }\n    },\n    {\n      \"column\": \"Release Year\",\n      \"properties\": {\n        \"dtype\": \"number\",\n        \"std\": 29,\n        \"min\": 0,\n        \"max\": 2020,\n        \"num_unique_values\": 121,\n        \"samples\": [\n          1945,\n          1948,\n          1905\n        ],\n        \"semantic_type\": \"\",\n        \"description\": \"\"\n      }\n    },\n    {\n      \"column\": \"Title\",\n      \"properties\": {\n        \"dtype\": \"string\",\n        \"num_unique_values\": 33714,\n        \"samples\": [\n          \"Ride\",\n          \"Demon Knight\",\n          \"Mana Oori Ramayanam\"\n        ],\n        \"semantic_type\": \"\",\n        \"description\": \"\"\n      }\n    },\n    {\n      \"column\": \"emb\",\n      \"properties\": {\n        \"dtype\": \"object\",\n        \"semantic_type\": \"\",\n        \"description\": \"\"\n      }\n    }\n  ]\n}"
            },
            "text/html": [
              "\n",
              "  <div id=\"df-d0f417d8-d1e8-4ade-b758-f9116307eed2\" class=\"colab-df-container\">\n",
              "    <div>\n",
              "<style scoped>\n",
              "    .dataframe tbody tr th:only-of-type {\n",
              "        vertical-align: middle;\n",
              "    }\n",
              "\n",
              "    .dataframe tbody tr th {\n",
              "        vertical-align: top;\n",
              "    }\n",
              "\n",
              "    .dataframe thead th {\n",
              "        text-align: right;\n",
              "    }\n",
              "</style>\n",
              "<table border=\"1\" class=\"dataframe\">\n",
              "  <thead>\n",
              "    <tr style=\"text-align: right;\">\n",
              "      <th></th>\n",
              "      <th>Unnamed: 0</th>\n",
              "      <th>Genre</th>\n",
              "      <th>Origin/Ethnicity</th>\n",
              "      <th>Plot</th>\n",
              "      <th>Release Year</th>\n",
              "      <th>Title</th>\n",
              "      <th>emb</th>\n",
              "    </tr>\n",
              "  </thead>\n",
              "  <tbody>\n",
              "    <tr>\n",
              "      <th>0</th>\n",
              "      <td>0</td>\n",
              "      <td>unknown</td>\n",
              "      <td>American</td>\n",
              "      <td>A bartender is working at a saloon, serving dr...</td>\n",
              "      <td>1901</td>\n",
              "      <td>Kansas Saloon Smashers</td>\n",
              "      <td>[0.2348172904457897, -0.4755801953142509, 0.58...</td>\n",
              "    </tr>\n",
              "    <tr>\n",
              "      <th>1</th>\n",
              "      <td>1</td>\n",
              "      <td>unknown</td>\n",
              "      <td>American</td>\n",
              "      <td>The moon, painted with a smiling face hangs ov...</td>\n",
              "      <td>1901</td>\n",
              "      <td>Love by the Light of the Moon</td>\n",
              "      <td>[0.13217403783346526, -0.5993902126792818, 1.0...</td>\n",
              "    </tr>\n",
              "    <tr>\n",
              "      <th>2</th>\n",
              "      <td>2</td>\n",
              "      <td>unknown</td>\n",
              "      <td>American</td>\n",
              "      <td>The film, just over a minute long, is composed...</td>\n",
              "      <td>1901</td>\n",
              "      <td>The Martyred Presidents</td>\n",
              "      <td>[0.4287504331150558, -0.3087563479784876, -0.1...</td>\n",
              "    </tr>\n",
              "    <tr>\n",
              "      <th>3</th>\n",
              "      <td>3</td>\n",
              "      <td>unknown</td>\n",
              "      <td>American</td>\n",
              "      <td>Lasting just 61 seconds and consisting of two ...</td>\n",
              "      <td>1901</td>\n",
              "      <td>Terrible Teddy, the Grizzly King</td>\n",
              "      <td>[0.7681060490140226, -0.641999500541715, 0.540...</td>\n",
              "    </tr>\n",
              "    <tr>\n",
              "      <th>4</th>\n",
              "      <td>4</td>\n",
              "      <td>unknown</td>\n",
              "      <td>American</td>\n",
              "      <td>The earliest known adaptation of the classic f...</td>\n",
              "      <td>1902</td>\n",
              "      <td>Jack and the Beanstalk</td>\n",
              "      <td>[0.7584390750853345, -0.46763472887687385, 0.9...</td>\n",
              "    </tr>\n",
              "  </tbody>\n",
              "</table>\n",
              "</div>\n",
              "    <div class=\"colab-df-buttons\">\n",
              "\n",
              "  <div class=\"colab-df-container\">\n",
              "    <button class=\"colab-df-convert\" onclick=\"convertToInteractive('df-d0f417d8-d1e8-4ade-b758-f9116307eed2')\"\n",
              "            title=\"Convert this dataframe to an interactive table.\"\n",
              "            style=\"display:none;\">\n",
              "\n",
              "  <svg xmlns=\"http://www.w3.org/2000/svg\" height=\"24px\" viewBox=\"0 -960 960 960\">\n",
              "    <path d=\"M120-120v-720h720v720H120Zm60-500h600v-160H180v160Zm220 220h160v-160H400v160Zm0 220h160v-160H400v160ZM180-400h160v-160H180v160Zm440 0h160v-160H620v160ZM180-180h160v-160H180v160Zm440 0h160v-160H620v160Z\"/>\n",
              "  </svg>\n",
              "    </button>\n",
              "\n",
              "  <style>\n",
              "    .colab-df-container {\n",
              "      display:flex;\n",
              "      gap: 12px;\n",
              "    }\n",
              "\n",
              "    .colab-df-convert {\n",
              "      background-color: #E8F0FE;\n",
              "      border: none;\n",
              "      border-radius: 50%;\n",
              "      cursor: pointer;\n",
              "      display: none;\n",
              "      fill: #1967D2;\n",
              "      height: 32px;\n",
              "      padding: 0 0 0 0;\n",
              "      width: 32px;\n",
              "    }\n",
              "\n",
              "    .colab-df-convert:hover {\n",
              "      background-color: #E2EBFA;\n",
              "      box-shadow: 0px 1px 2px rgba(60, 64, 67, 0.3), 0px 1px 3px 1px rgba(60, 64, 67, 0.15);\n",
              "      fill: #174EA6;\n",
              "    }\n",
              "\n",
              "    .colab-df-buttons div {\n",
              "      margin-bottom: 4px;\n",
              "    }\n",
              "\n",
              "    [theme=dark] .colab-df-convert {\n",
              "      background-color: #3B4455;\n",
              "      fill: #D2E3FC;\n",
              "    }\n",
              "\n",
              "    [theme=dark] .colab-df-convert:hover {\n",
              "      background-color: #434B5C;\n",
              "      box-shadow: 0px 1px 3px 1px rgba(0, 0, 0, 0.15);\n",
              "      filter: drop-shadow(0px 1px 2px rgba(0, 0, 0, 0.3));\n",
              "      fill: #FFFFFF;\n",
              "    }\n",
              "  </style>\n",
              "\n",
              "    <script>\n",
              "      const buttonEl =\n",
              "        document.querySelector('#df-d0f417d8-d1e8-4ade-b758-f9116307eed2 button.colab-df-convert');\n",
              "      buttonEl.style.display =\n",
              "        google.colab.kernel.accessAllowed ? 'block' : 'none';\n",
              "\n",
              "      async function convertToInteractive(key) {\n",
              "        const element = document.querySelector('#df-d0f417d8-d1e8-4ade-b758-f9116307eed2');\n",
              "        const dataTable =\n",
              "          await google.colab.kernel.invokeFunction('convertToInteractive',\n",
              "                                                    [key], {});\n",
              "        if (!dataTable) return;\n",
              "\n",
              "        const docLinkHtml = 'Like what you see? Visit the ' +\n",
              "          '<a target=\"_blank\" href=https://colab.research.google.com/notebooks/data_table.ipynb>data table notebook</a>'\n",
              "          + ' to learn more about interactive tables.';\n",
              "        element.innerHTML = '';\n",
              "        dataTable['output_type'] = 'display_data';\n",
              "        await google.colab.output.renderOutput(dataTable, element);\n",
              "        const docLink = document.createElement('div');\n",
              "        docLink.innerHTML = docLinkHtml;\n",
              "        element.appendChild(docLink);\n",
              "      }\n",
              "    </script>\n",
              "  </div>\n",
              "\n",
              "\n",
              "<div id=\"df-31853051-de1c-4a39-bf1e-3c89ee6f9cc2\">\n",
              "  <button class=\"colab-df-quickchart\" onclick=\"quickchart('df-31853051-de1c-4a39-bf1e-3c89ee6f9cc2')\"\n",
              "            title=\"Suggest charts\"\n",
              "            style=\"display:none;\">\n",
              "\n",
              "<svg xmlns=\"http://www.w3.org/2000/svg\" height=\"24px\"viewBox=\"0 0 24 24\"\n",
              "     width=\"24px\">\n",
              "    <g>\n",
              "        <path d=\"M19 3H5c-1.1 0-2 .9-2 2v14c0 1.1.9 2 2 2h14c1.1 0 2-.9 2-2V5c0-1.1-.9-2-2-2zM9 17H7v-7h2v7zm4 0h-2V7h2v10zm4 0h-2v-4h2v4z\"/>\n",
              "    </g>\n",
              "</svg>\n",
              "  </button>\n",
              "\n",
              "<style>\n",
              "  .colab-df-quickchart {\n",
              "      --bg-color: #E8F0FE;\n",
              "      --fill-color: #1967D2;\n",
              "      --hover-bg-color: #E2EBFA;\n",
              "      --hover-fill-color: #174EA6;\n",
              "      --disabled-fill-color: #AAA;\n",
              "      --disabled-bg-color: #DDD;\n",
              "  }\n",
              "\n",
              "  [theme=dark] .colab-df-quickchart {\n",
              "      --bg-color: #3B4455;\n",
              "      --fill-color: #D2E3FC;\n",
              "      --hover-bg-color: #434B5C;\n",
              "      --hover-fill-color: #FFFFFF;\n",
              "      --disabled-bg-color: #3B4455;\n",
              "      --disabled-fill-color: #666;\n",
              "  }\n",
              "\n",
              "  .colab-df-quickchart {\n",
              "    background-color: var(--bg-color);\n",
              "    border: none;\n",
              "    border-radius: 50%;\n",
              "    cursor: pointer;\n",
              "    display: none;\n",
              "    fill: var(--fill-color);\n",
              "    height: 32px;\n",
              "    padding: 0;\n",
              "    width: 32px;\n",
              "  }\n",
              "\n",
              "  .colab-df-quickchart:hover {\n",
              "    background-color: var(--hover-bg-color);\n",
              "    box-shadow: 0 1px 2px rgba(60, 64, 67, 0.3), 0 1px 3px 1px rgba(60, 64, 67, 0.15);\n",
              "    fill: var(--button-hover-fill-color);\n",
              "  }\n",
              "\n",
              "  .colab-df-quickchart-complete:disabled,\n",
              "  .colab-df-quickchart-complete:disabled:hover {\n",
              "    background-color: var(--disabled-bg-color);\n",
              "    fill: var(--disabled-fill-color);\n",
              "    box-shadow: none;\n",
              "  }\n",
              "\n",
              "  .colab-df-spinner {\n",
              "    border: 2px solid var(--fill-color);\n",
              "    border-color: transparent;\n",
              "    border-bottom-color: var(--fill-color);\n",
              "    animation:\n",
              "      spin 1s steps(1) infinite;\n",
              "  }\n",
              "\n",
              "  @keyframes spin {\n",
              "    0% {\n",
              "      border-color: transparent;\n",
              "      border-bottom-color: var(--fill-color);\n",
              "      border-left-color: var(--fill-color);\n",
              "    }\n",
              "    20% {\n",
              "      border-color: transparent;\n",
              "      border-left-color: var(--fill-color);\n",
              "      border-top-color: var(--fill-color);\n",
              "    }\n",
              "    30% {\n",
              "      border-color: transparent;\n",
              "      border-left-color: var(--fill-color);\n",
              "      border-top-color: var(--fill-color);\n",
              "      border-right-color: var(--fill-color);\n",
              "    }\n",
              "    40% {\n",
              "      border-color: transparent;\n",
              "      border-right-color: var(--fill-color);\n",
              "      border-top-color: var(--fill-color);\n",
              "    }\n",
              "    60% {\n",
              "      border-color: transparent;\n",
              "      border-right-color: var(--fill-color);\n",
              "    }\n",
              "    80% {\n",
              "      border-color: transparent;\n",
              "      border-right-color: var(--fill-color);\n",
              "      border-bottom-color: var(--fill-color);\n",
              "    }\n",
              "    90% {\n",
              "      border-color: transparent;\n",
              "      border-bottom-color: var(--fill-color);\n",
              "    }\n",
              "  }\n",
              "</style>\n",
              "\n",
              "  <script>\n",
              "    async function quickchart(key) {\n",
              "      const quickchartButtonEl =\n",
              "        document.querySelector('#' + key + ' button');\n",
              "      quickchartButtonEl.disabled = true;  // To prevent multiple clicks.\n",
              "      quickchartButtonEl.classList.add('colab-df-spinner');\n",
              "      try {\n",
              "        const charts = await google.colab.kernel.invokeFunction(\n",
              "            'suggestCharts', [key], {});\n",
              "      } catch (error) {\n",
              "        console.error('Error during call to suggestCharts:', error);\n",
              "      }\n",
              "      quickchartButtonEl.classList.remove('colab-df-spinner');\n",
              "      quickchartButtonEl.classList.add('colab-df-quickchart-complete');\n",
              "    }\n",
              "    (() => {\n",
              "      let quickchartButtonEl =\n",
              "        document.querySelector('#df-31853051-de1c-4a39-bf1e-3c89ee6f9cc2 button');\n",
              "      quickchartButtonEl.style.display =\n",
              "        google.colab.kernel.accessAllowed ? 'block' : 'none';\n",
              "    })();\n",
              "  </script>\n",
              "</div>\n",
              "    </div>\n",
              "  </div>\n"
            ],
            "text/plain": [
              "   Unnamed: 0    Genre Origin/Ethnicity  \\\n",
              "0           0  unknown         American   \n",
              "1           1  unknown         American   \n",
              "2           2  unknown         American   \n",
              "3           3  unknown         American   \n",
              "4           4  unknown         American   \n",
              "\n",
              "                                                Plot  Release Year  \\\n",
              "0  A bartender is working at a saloon, serving dr...          1901   \n",
              "1  The moon, painted with a smiling face hangs ov...          1901   \n",
              "2  The film, just over a minute long, is composed...          1901   \n",
              "3  Lasting just 61 seconds and consisting of two ...          1901   \n",
              "4  The earliest known adaptation of the classic f...          1902   \n",
              "\n",
              "                              Title  \\\n",
              "0            Kansas Saloon Smashers   \n",
              "1     Love by the Light of the Moon   \n",
              "2           The Martyred Presidents   \n",
              "3  Terrible Teddy, the Grizzly King   \n",
              "4            Jack and the Beanstalk   \n",
              "\n",
              "                                                 emb  \n",
              "0  [0.2348172904457897, -0.4755801953142509, 0.58...  \n",
              "1  [0.13217403783346526, -0.5993902126792818, 1.0...  \n",
              "2  [0.4287504331150558, -0.3087563479784876, -0.1...  \n",
              "3  [0.7681060490140226, -0.641999500541715, 0.540...  \n",
              "4  [0.7584390750853345, -0.46763472887687385, 0.9...  "
            ]
          },
          "metadata": {},
          "execution_count": 18
        }
      ],
      "metadata": {
        "colab": {
          "base_uri": "https://localhost:8080/",
          "height": 206
        },
        "id": "Sjb06GG4CUnR",
        "outputId": "3d5a04bb-874e-4da2-c338-9a39b75e8d28"
      }
    },
    {
      "cell_type": "code",
      "execution_count": null,
      "source": [
        "from sklearn.metrics.pairwise import cosine_similarity\r\n",
        "\r\n",
        "def retrieve_movies_fasttext(query, k=10):\r\n",
        "    query_embedding = get_sentence_embedding(fasttext_model.model, query.lower(), tfidf.vectorizer)\r\n",
        "    embeddings_matrix = list(movies_df_with_embeddings['emb'])\r\n",
        "    similarities = cosine_similarity([query_embedding], embeddings_matrix)[0]\r\n",
        "\r\n",
        "    top_k_indices = similarities.argsort()[-k:][::-1]\r\n",
        "\r\n",
        "    top_k_movies = movies_df_with_embeddings.iloc[top_k_indices][['Title', 'Plot']]\r\n",
        "\r\n",
        "    return top_k_movies"
      ],
      "outputs": [],
      "metadata": {
        "id": "-h-uiNwDDIK5"
      }
    },
    {
      "cell_type": "code",
      "execution_count": null,
      "source": [
        "print(cosine_similarity([movies_df_with_embeddings.iloc[16389]['emb']], [movies_df_with_embeddings.iloc[12191]['emb']])[0][0])"
      ],
      "outputs": [
        {
          "output_type": "stream",
          "name": "stdout",
          "text": [
            "0.9127352505115243\n"
          ]
        }
      ],
      "metadata": {
        "colab": {
          "base_uri": "https://localhost:8080/"
        },
        "id": "ClWs67uAJOLr",
        "outputId": "9295a819-c010-4351-f869-ead3fbf5befc"
      }
    },
    {
      "cell_type": "code",
      "execution_count": null,
      "source": [
        "def retrieve_multiple_queries(queries):\r\n",
        "  all_results = []\r\n",
        "  for query in queries:\r\n",
        "    recommended_movies = retrieve_movies_fasttext(query, 2)\r\n",
        "    json_results = recommended_movies.to_json(orient='records')\r\n",
        "    all_results.append(json_results)\r\n",
        "  return all_results"
      ],
      "outputs": [],
      "metadata": {
        "id": "lqkWKm-eadzY"
      }
    },
    {
      "cell_type": "code",
      "execution_count": null,
      "source": [
        "import json\r\n",
        "\r\n",
        "json_final_result = retrieve_multiple_queries(\r\n",
        "[\"Find me a comedy that deals with college life like 'Revenge of the Nerds'.\",\r\n",
        "\"List all the movies that explore themes of survival on an island similar to 'Swiss Family Robinson'.\",\r\n",
        "\"Which movies, akin to 'Girl with a Pearl Earring', delve into the lives of famous painters?\",\r\n",
        "\"I'm looking for movies based on classic literature like 'The Great Gatsby'.\",\r\n",
        "\"What other films capture the essence of Christmas as 'The Muppet Christmas Carol' does?\",\r\n",
        "\"Are there any films that center around a mystery at the circus in the same vein as 'Charlie Chan at the Circus'?\",\r\n",
        "\"Provide a list of movies that showcase elaborate heists or capers akin to 'Tower Heist'.\",\r\n",
        "\"What films offer narratives about rural America in the same way 'Lean on Pete' does?\",\r\n",
        "\"Identify biopics that, similar to 'The Dolly Sisters', feature the lives of entertainment icons from the Vaudeville era.\",\r\n",
        "\"Suggest movies that give a comedic take on espionage and secret agents as seen in 'Spy'.\",\r\n",
        "\"Show me films where ancient artifacts bring history to life in a modern setting.\",\r\n",
        "\"What are some action-packed movies that explore the theme of lone vigilantes seeking justice?\",\r\n",
        "\"I'm interested in cinematic tales of forbidden love set against the backdrop of political upheaval.\",\r\n",
        "\"Can you provide a list of horror sequels that delve into the aftermath of a curse from the first installment?\",\r\n",
        "\"I'm looking for heartwarming family films where unexpected individuals come into each other’s lives and change them forever.\",\r\n",
        "\"Identify movies depicting the struggles of space exploration and interstellar missions.\",\r\n",
        "\"List all films that feature epic martial arts tournaments and the journey of the fighters.\",\r\n",
        "\"Give me stories of cowboys taming the wild frontier in the old American West.\",\r\n",
        "\"What movies offer a vivid portrayal of life during the Renaissance period?\",\r\n",
        "\"I need films that center around a powerful artifact with mystical or historical significance.\",\r\n",
        "\"Recommend romantic films where lovers deal with the challenges of distance or separation.\",\r\n",
        "\"Find movies that involve high-stakes courtroom drama and legal battles.\",\r\n",
        "\"Provide examples of comedy films based on the misadventures of individuals adapting to a new country.\",\r\n",
        "\"I'm looking for spy thrillers that feature gadgetry and covert operations.\",\r\n",
        "\"Show me horror films where the characters are trapped in a remote and haunted location.\",\r\n",
        "\"Point me to movies showcasing the thrill of race car driving and the lives of drivers.\",\r\n",
        "\"I want adventure films that revolve around treasure hunts and ancient civilizations.\",\r\n",
        "\"List movies where the protagonist is a genius trying to solve a complex mystery.\",\r\n",
        "\"Suggest musicals that capture the journey of aspiring performers from their humble beginnings to stardom.\",\r\n",
        "\"Look for biographical films that illustrate the accomplishments and challenges of world-renowned scientists.\"]\r\n",
        ")\r\n",
        "with open('json_final_result_fasttext', 'w') as json_file:\r\n",
        "    json.dump(json_final_result, json_file)"
      ],
      "outputs": [],
      "metadata": {
        "id": "K-afCixObFD5"
      }
    },
    {
      "cell_type": "code",
      "execution_count": null,
      "source": [
        "query = \"action movie that the main character is female\"\r\n",
        "recommended_movies = retrieve_movies_fasttext(query, 2)\r\n",
        "json_results = recommended_movies.to_json(orient='records')\r\n",
        "json_results"
      ],
      "outputs": [
        {
          "output_type": "execute_result",
          "data": {
            "application/vnd.google.colaboratory.intrinsic+json": {
              "type": "string"
            },
            "text/plain": [
              "'[{\"Title\":\"A Cock and Bull Story\",\"Plot\":\"The film depicts Steve Coogan playing himself as an arrogant actor with low self-esteem and a complicated love life. Coogan is playing the eponymous role in an adaptation of The Life and Opinions of Tristram Shandy, Gentleman being filmed at a stately home. He constantly spars with actor Rob Brydon, who is playing Uncle Toby and believes his role to be of equal importance to Coogan\\'s, calling himself the \\\\\"co-lead\\\\\".\\\\r\\\\nThe film incorporates several sequences from Tristram Shandy. Not all of these are part of the film-within-the-film. The latter are limited to the story of Tristram\\'s conception, birth and christening; Uncle Toby\\'s experiences at the Battle of Namur and Tristram\\'s sudden and accidental circumcision at the age of three. Uncle Toby\\'s wooing of Widow Wadman (Gillian Anderson) takes place in a sequence dreamed by Steve Coogan and after the cast and crew have viewed the \\\\\"completed\\\\\" film ending, with Walter Shandy fainting at the sight of his wife giving birth, the question \\\\\"How does the book end?\\\\\" is followed by the concluding scene of the novel, in which Yorick says \\\\\"It is a story about a Cock and a Bull \\\\u2013 and the best of its kind that ever I heard!\\\\\" Yorick is not in the film-within-the-film; in this scene he is played by Stephen Fry, who appears elsewhere in the film as Patrick, a caricatured version of the actual curator at Shandy Hall. The DVD extras include a scene of Fry talking with the curator he portrays.\"},{\"Title\":\"Yaanum Theeyavan\",\"Plot\":\"This movie claims to represent a number of true events that have actually happened. Put together under one shell with imaginative screenplay and characters, the story revolves around 3 primary characters Michael (Ashwin Jerome), Soumya (Varsha) and Pasupathy (Raju Sundaram). The plot forms around how these 3 characters meet and what happens after their meeting. However the complete plot will be known only after the release of the movie.\"}]'"
            ]
          },
          "metadata": {},
          "execution_count": 39
        }
      ],
      "metadata": {
        "colab": {
          "base_uri": "https://localhost:8080/",
          "height": 123
        },
        "id": "RuXLEMKxChg4",
        "outputId": "4cb5ddbd-4d18-4efc-d85c-fa63589f3448"
      }
    }
  ],
  "metadata": {
    "colab": {
      "provenance": [],
      "collapsed_sections": [
        "UsobNJ5hbudb",
        "IzJccjzEbwOC",
        "yecVScl7cTjv",
        "XSMStesIcbQI",
        "cab772a9",
        "qyJTHNISc7b5"
      ]
    },
    "kernelspec": {
      "display_name": "Python 3",
      "name": "python3"
    },
    "language_info": {
      "codemirror_mode": {
        "name": "ipython",
        "version": 3
      },
      "file_extension": ".py",
      "mimetype": "text/x-python",
      "name": "python",
      "nbconvert_exporter": "python",
      "pygments_lexer": "ipython3",
      "version": "3.10.10"
    }
  },
  "nbformat": 4,
  "nbformat_minor": 5
}