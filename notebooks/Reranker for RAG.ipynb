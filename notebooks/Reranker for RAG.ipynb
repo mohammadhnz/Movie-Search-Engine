{
  "cells": [
    {
      "cell_type": "code",
      "execution_count": null,
      "metadata": {
        "colab": {
          "base_uri": "https://localhost:8080/"
        },
        "id": "0tEzvtKHZOnX",
        "outputId": "c15edbce-c24b-4ea6-c481-a7d8924a4f45"
      },
      "outputs": [
        {
          "output_type": "stream",
          "name": "stdout",
          "text": [
            "Mounted at /content/drive\n",
            "/content/drive/My Drive/Colab Notebooks\n"
          ]
        }
      ],
      "source": [
        "from google.colab import drive\n",
        "drive.mount('/content/drive')\n",
        "\n",
        "address = \"Colab Notebooks\"\n",
        "import sys\n",
        "sys.path.append('/content/drive/My Drive/{}'.format(address))\n",
        "\n",
        "%cd /content/drive/My\\ Drive/$address"
      ],
      "id": "0tEzvtKHZOnX"
    },
    {
      "cell_type": "code",
      "execution_count": null,
      "metadata": {
        "id": "c90fd25b"
      },
      "outputs": [],
      "source": [
        "import pandas as pd\n",
        "import numpy as np\n",
        "import seaborn as sns\n",
        "from matplotlib import pyplot as plt"
      ],
      "id": "c90fd25b"
    },
    {
      "cell_type": "markdown",
      "metadata": {
        "id": "s-zD12p2TcUl"
      },
      "source": [
        "# Add Reranker"
      ],
      "id": "s-zD12p2TcUl"
    },
    {
      "cell_type": "code",
      "execution_count": null,
      "metadata": {
        "id": "4Bv4BQB7JPY8"
      },
      "outputs": [],
      "source": [
        "import pickle\n",
        "with open('./vectorstore.pkl', 'rb') as f:\n",
        "    vectorstore = pickle.load(f)"
      ],
      "id": "4Bv4BQB7JPY8"
    },
    {
      "cell_type": "code",
      "execution_count": null,
      "metadata": {
        "id": "x5bSDg7vhn-U"
      },
      "outputs": [],
      "source": [
        "query = \"A man tells his life story to strangers who sit next to him on a bench at a bus stop\"\n",
        "docs = vectorstore.similarity_search(query, k=100)"
      ],
      "id": "x5bSDg7vhn-U"
    },
    {
      "cell_type": "code",
      "execution_count": null,
      "metadata": {
        "id": "xs0f3AVs2ot5"
      },
      "outputs": [],
      "source": [
        "from transformers import pipeline, BertForSequenceClassification, BertTokenizerFast\n",
        "\n",
        "model_path = \"movie-genre-detection-test1\"\n",
        "classification_model = BertForSequenceClassification.from_pretrained(model_path)\n",
        "classification_tokenizer= BertTokenizerFast.from_pretrained(model_path)\n",
        "nlp = pipeline(\"sentiment-analysis\", model=classification_model, tokenizer=classification_tokenizer)"
      ],
      "id": "xs0f3AVs2ot5"
    },
    {
      "cell_type": "code",
      "execution_count": null,
      "metadata": {
        "id": "XEZISd5F9-b-"
      },
      "outputs": [],
      "source": [
        "def extract_document_genre(doc):\n",
        "  for line in doc.page_content.split('\\n'):\n",
        "    if not 'Genre' in line:\n",
        "      continue\n",
        "    return line.split(':')[1].strip()\n",
        "\n",
        "\n",
        "def filter_by_genre(query, documents):\n",
        "  base_genre = nlp(query)[0]['label']\n",
        "  valid_docs = []\n",
        "  for document in documents:\n",
        "    doc_genre = extract_document_genre(document)\n",
        "    if base_genre.lower() in doc_genre.lower():\n",
        "      valid_docs.append(document)\n",
        "  return valid_docs"
      ],
      "id": "XEZISd5F9-b-"
    },
    {
      "cell_type": "code",
      "execution_count": null,
      "metadata": {
        "colab": {
          "base_uri": "https://localhost:8080/"
        },
        "id": "NQg_vdkC9E7U",
        "outputId": "c50dbf2c-60a1-42de-aaef-84560768bfc8"
      },
      "outputs": [
        {
          "data": {
            "text/plain": [
              "(46, 100)"
            ]
          },
          "execution_count": 9,
          "metadata": {},
          "output_type": "execute_result"
        }
      ],
      "source": [
        "valid_docs = filter_by_genre(query, docs)\n",
        "len(valid_docs), len(docs)"
      ],
      "id": "NQg_vdkC9E7U"
    },
    {
      "cell_type": "code",
      "execution_count": null,
      "metadata": {
        "colab": {
          "base_uri": "https://localhost:8080/"
        },
        "id": "7BdimJBZ6vdc",
        "outputId": "a1cd10e1-bb87-4e15-e56f-ae25a80435b0"
      },
      "outputs": [
        {
          "name": "stderr",
          "output_type": "stream",
          "text": [
            "/usr/local/lib/python3.10/dist-packages/huggingface_hub/utils/_token.py:88: UserWarning: \n",
            "The secret `HF_TOKEN` does not exist in your Colab secrets.\n",
            "To authenticate with the Hugging Face Hub, create a token in your settings tab (https://huggingface.co/settings/tokens), set it as secret in your Google Colab and restart your session.\n",
            "You will be able to reuse this secret in all of your notebooks.\n",
            "Please note that authentication is recommended but still optional to access public models or datasets.\n",
            "  warnings.warn(\n",
            "/usr/local/lib/python3.10/dist-packages/torch/_utils.py:831: UserWarning: TypedStorage is deprecated. It will be removed in the future and UntypedStorage will be the only storage class. This should only matter to you if you are using storages directly.  To access UntypedStorage directly, use tensor.untyped_storage() instead of tensor.storage()\n",
            "  return self.fget.__get__(instance, owner)()\n"
          ]
        }
      ],
      "source": [
        "from sentence_transformers import CrossEncoder\n",
        "\n",
        "model = CrossEncoder(\"cross-encoder/ms-marco-MiniLM-L-12-v2\", max_length=512)"
      ],
      "id": "7BdimJBZ6vdc"
    },
    {
      "cell_type": "code",
      "execution_count": null,
      "metadata": {
        "id": "sCfbiSwRx0C1"
      },
      "outputs": [],
      "source": [
        "def rerank_results(query, documents, top_n):\n",
        "  model_inputs = [[query, doc.page_content] for doc in documents]\n",
        "  scores = model.predict(model_inputs)\n",
        "  results = sorted(enumerate(scores), key=lambda x: x[1], reverse=True)\n",
        "  final_results = []\n",
        "  for r in results[:top_n]:\n",
        "    doc = documents[r[0]]\n",
        "    doc.metadata[\"relevance_score\"] = r[1]\n",
        "    final_results.append(doc)\n",
        "  return final_results"
      ],
      "id": "sCfbiSwRx0C1"
    },
    {
      "cell_type": "code",
      "execution_count": null,
      "metadata": {
        "colab": {
          "base_uri": "https://localhost:8080/"
        },
        "id": "JclLwANExdI8",
        "outputId": "db9c0ab3-3185-4338-8c35-2d6d2767e7f2"
      },
      "outputs": [
        {
          "name": "stdout",
          "output_type": "stream",
          "text": [
            ": 17503\n",
            "Genre: drama\n",
            "Origin/Ethnicity: Australian\n",
            "Plot: Jack, a young British hitchhiker in France, attempts to get a ride to the ferry service back to England. After walking along the road for hours without having any cars stop, he comes upon an arguing couple who pull over and continue their fight. Concerned, Jack approaches the car and pulls a man out before he can strike a woman. The man backs off from Jack and drives away, leaving Jack with the woman, who introduces herself as a fellow hitchhiker named Véronique. Véronique tells him that there is a serial killer active on this road, which explains why Jack could not get a ride. The two agree to travel together for safety, and Véronique helps him work on his French. Véronique says she is a drifter whose parents blame her for her brother's accidental death, and Jack that, on the same day, he lost all his luggage and found his girlfriend cheating on him.\r\n",
            "An eccentric man, Grizard, stops and offers the two a ride. Although Véronique is reluctant, Jack convinces her to accept Grizard's offer. When Grizard discovers that Jack is English, he enthusiastically invites Jack to meet his English wife. Véronique protests at the detour, but Jack again convinces her to accept Grizard's hospitality. On the way to his house, Grizard stops to pick up roadkill and laughs when Jack suggests they bury it instead of eating it. Mary, Grizard's wife, turns out to be American, though she says she has also lived in England. During dinner, Jack reveals that he is a vegetarian and apologetically declines to eat their meat. Grizard mocks him in French, upsetting Mary and Véronique. When the conversation turns to the serial killer, Mary becomes upset and leaves the table. Grizard insists they are safe in his house and urges them to stay the night.\r\n",
            "Grizard puts Jack and Véronique in separate bedrooms. Jack finds photographs of a boy and girl in his room, but Grizard tells Jack they have no children. Before Jack goes to bed, Mary advises him to lock his door, which he does. That night, Véronique enters his bedroom, and they have sex. Jack invites her to come to England with him, and she excitedly accepts. When he wakes, she is nowhere to be found. Grizard says she has left and produces a note. Although Jack is suspicious, Grizard insists he immediately leave the house. As he leaves, Jack realises the handwriting on the note is not Véronique's. Before he can do anything else, he is drugged and kidnapped by Grizard's handyman, Delacroix. Delacroix says Jack must have annoyed Grizard a great deal, and, in French, variously threatens and mocks Jack; Jack says he does not understand and begs to be let go. Delacroix ties up Jack and puts him in his truck, but, before Delaxcroix can drive off, Jack escapes. Delacroix says to himself that Jack is in even worse trouble now that he has escaped.\r\n",
            "Jack returns to Grizard's house, where he finds Véronique tied up. After freeing her, he arms himself with a rifle. Jack and Véronique escape the house in a stolen car, pursued by Grizard and Mary, who have returned home. After a car chase in which their car flips, Jack and Véronique flee on foot. They encounter Delacroix, who, after a scuffle, accidentally impales himself on a farm tool. While Jack is not looking, Véronique kills Delacroix with a knife. Grizard finds her and has a flashback to when Véronique was a child. She claims then, as she does now, that she did not murder anyone and the death was accidental. In French, Mary and Grizard, revealed to be Véronique's parents, plead with her to return home and stop killing people, saying they cannot cover for her any more. Véronique refuses. Before Mary can tell Jack the truth in English, Véronique knocks Mary unconscious with the rifle and gags Grizard. As Véronique and Jack drive off together, Véronique checks to make sure she has brought along a large, bloody knife.\n",
            "Release Year: 1981\n",
            "Title: Road Games\n",
            ": 20913\n",
            "Genre: drama\n",
            "Origin/Ethnicity: British\n",
            "Plot: Aspiring artist Ben Willis develops insomnia after a painful breakup with his girlfriend, Suzy. To take his mind off Suzy and to occupy the extra waking hours he has recently gained, Ben begins working at a local Sainsbury's supermarket, where he meets colourful co-workers. Among them is his colleague Sharon, with whom he soon develops a mutual crush. As his personal means to escape the boredom inherent in the night shift, Ben lets his imagination run wild. In particular, he imagines that he can stop time so that he can walk around in a world that is \"frozen\" like the pause of a film. He imagines female patrons of the supermarket stopped in time, allowing him to undress and draw them. Finally the ability to stop time becomes real.\r\n",
            "A series of flashbacks occur with each progression of the plot, accompanied by Ben's narration and an examination of the effect the situation had had upon him. He explains how he always has been impressed by the beauty of the female body: how he, as a young boy, witnessed a Swedish boarder walk naked from the shower to her room. In another flashback, the young Ben and his best friend Sean share Sean's discovery of his parents' adult magazines, and Sean pays a neighbourhood girl fifty pence to show him, and all the neighbourhood boys, her vulva.\r\n",
            "Ben's boss, Alan Jenkins, recruits the staff for a weekend football game and, after an embarrassing defeat, 26-Nil, Ben freezes time again. This time he discovers that he is not alone when he sees a mysterious stranger who is able to move inside the frozen world as he can. When Jenkins throws a party to honour his own birthday and as a consolation for their defeat, Sharon asks Ben to be her date, to which he eagerly but nervously agrees. While there, Ben encounters his ex-girlfriend Suzy, who implores him to try their relationship again. Ben refuses her advance but she kisses him, just as Sharon witnesses from afar. Sharon angrily leaves the party. Ben realizes Sharon has seen the kiss, and freezes time. After spending several days \"frozen\", Ben concludes that although he can stop time, he cannot reverse it to correct the mistake. He eventually seeks to explain himself to Sharon at her apartment, and a confrontation similar to the film-opening breakup occurs. Sharon henceforth does not show up to work at the supermarket.\r\n",
            "As a practical joke, colleagues Barry and Matt phone Ben; Matt poses as an art gallery owner who is interested in displaying Ben's drawings, and schedules an appointment for Ben to present more to him. When Ben arrives as agreed, the reaction of the owner quickly reveals that he has been pranked. However, the gallery owner is nonetheless interested in Ben's work and decides to exhibit Ben's drawings. Sharon receives an invitation to the exhibition and visits. She is moved as most of the pieces depict her and she happily greets Ben, congratulating him on his success. The finale occurs as Ben shares his ability to stop time with her and the two step outside into a time-frozen snowfall.\n",
            "Release Year: 2006\n",
            "Title: Cashback\n",
            ": 5369\n",
            "Genre: drama\n",
            "Origin/Ethnicity: American\n",
            "Plot: Early one morning, a room-service waiter at a New York City hotel is horrified to discover that the young man to whom he has just delivered breakfast (Basehart) is standing on the narrow ledge outside his room on the 15th floor. Charlie Dunnigan (Douglas), a policeman on traffic duty in the street below, tries to talk him off the ledge to no avail. He is ordered back to traffic patrol by police emergency services deputy chief Moksar (Da Silva), but he is ordered to return when the man on the ledge will not speak to psychiatrists summoned to the scene. Coached by a psychiatrist (Martin Gabel), Dunnigan tries to relate to the man on the ledge as one human to another.[2]\r\n",
            "The police identify the man as Robert Cosick and locate his mother (Agnes Moorehead), but her overwrought, hysterical behavior only upsets Cosick and seems to drive him toward jumping. His father (Keith), whom he despises, arrives. The divorced father and mother clash over old family issues, and the conflict is played out in front of the police. Dunnigan seeks to reconcile Robert with his father, whom Cosick has been brought up to hate by his mother. Dunnigan forces Mrs. Cosick to reveal the identity of a \"Virginia\" mentioned by Robert, and she turns out to be his estranged fiancée.[2]\r\n",
            "While this is happening, a crowd is gathering below. Cab drivers are wagering on when he will jump. A young stock-room clerk named Danny (Hunter) is wooing a fellow office worker, Ruth (Debra Paget), whom he meets by chance on the street. A woman (Grace Kelly) is seen at a nearby law office, where she is about to sign the final papers for her divorce. Amid legal formalities, she watches the drama unfold. Moved by the tragic events, she decides to reconcile with her husband.[2]\r\n",
            "After a while, Dunnigan convinces Cosick everyone will leave the hotel room so that he can rest. As Cosick steps in, a crazy evangelist sneaks into the room and Cosick goes back to the ledge. This damages his trust in Dunnigan, as does an effort by police to drop down from the roof and grab him. As night falls, Virginia (Barbara Bel Geddes) is brought to the room, and she pleads with Robert to come off the ledge, to no avail. All the while, the police, under the command of Moksar, are working to grab Robert and put a net below him.[2]\r\n",
            "Dunnigan seems to make a connection with Cosick when he talks about the good things in life, and he promises to take Cosick fishing for \"floppers\" (flounder) on Sheepshead Bay. Cosick is about to come inside when a boy on the street accidentally turns on a spotlight that blinds Robert, and he falls from the ledge. He manages to grab a net that the police had stealthily put below him, and he is hauled into the hotel. Dunnigan is greeted by his wife and son, and Danny and Ruth walk the street hand in hand.[2]\n",
            "Release Year: 1951\n",
            "Title: Fourteen Hours\n",
            ": 16065\n",
            "Genre: comedy-drama\n",
            "Origin/Ethnicity: American\n",
            "Plot: Larry Crowne, a middle-aged Navy veteran, is fired from his job at a big-box store due to a lack of college education, despite his seniority and exemplary work. Larry, who is divorced and lives alone, cannot find a job and could lose his house. Larry's neighbor, Lamar, advises him to enroll at East Valley Community College and get an education.\r\n",
            "Subsisting on unemployment benefits and unable to afford to drive his SUV, Larry buys a scooter from Lamar. At the college, he becomes part of a colorful community of outcasts, also-rans, and the overlooked all trying to find a better future for themselves. Two of the classes he takes are speech, taught by Mercedes Tainot and economics, taught by Dr. Ed Matsutani. While he initially struggles in speech class, he does very well in economics.\r\n",
            "Mercedes drinks at home after school because she is unhappily married to Dean, a former professor-turned-writer-turned-blogger. In reality, Dean spends his days looking at internet porn.\r\n",
            "Larry's economics classmate Talia invites him to join a club of scooter riders led by her boyfriend Dell Gordo. She also updates Larry's home decor, hair style, and wardrobe. Larry's friend Frank, who runs the diner, offers him a job to help make ends meet, as Larry had been a Navy cook.\r\n",
            "After a night with Dean goes horribly wrong, Mercedes is left alone at a bus stop, where Larry and his scooter gang notice her. Larry offers her a ride home, which Mercedes reluctantly accepts. On their way home they witness Dean getting arrested for drunk driving. At her front door, Mercedes offers Larry to kiss her and they hug (Mercedes thinks that they are kissing). She wants to have sex as well, but Larry declines, not wanting to take advantage of her inebriated state. When Dean arrives home the following morning he finds all of his possessions on the front lawn.\r\n",
            "Realizing there is no way he will not lose his house, Larry uses the knowledge he gained in his Economics class to begin a strategic foreclosure. Mercedes, meanwhile, warns Larry not to disclose the events of the previous night, and remains under the false impression that he is romantically involved with the much-younger Talia. It disappoints Larry, who had been excited about Mercedes' interest in him. He goes back to concentrating on his studies and his new job instead.\r\n",
            "Mercedes runs into Talia, who is telling Frances, her English teacher, that she will be dropping out of college to start a thrift store. Mercedes finds out that Talia and Larry are just friends. Later, Frances comes over to Mercedes' apartment to provide emotional support due to her divorcing Dean.\r\n",
            "Finals now come, and Larry is scheduled last. His speech is about his travels around the world while in the Navy. Larry is given a big round of applause by his classmates and an A-plus grade from Mercedes, who is now happier in her life, and has rediscovered her passion for teaching.\r\n",
            "A short while later, Mercedes and Frances show up at Larry's diner. She lets him know that he was an excellent student, to which he replies that she was an excellent teacher. When the next term begins, some of the students from Mercedes' speech course register for her Shakespeare class, but Larry is not with them. He is seen taking Dr. Matsutani's second-term Economics class. Mercedes walks to her office and sees a note from Larry on the door, which is an invitation for French toast, with the address to his new apartment. She drives there and they kiss.\n",
            "Release Year: 2011\n",
            "Title: Larry Crowne\n",
            ": 28469\n",
            "Genre: drama\n",
            "Origin/Ethnicity: Malayalam\n",
            "Plot: Steve (Farhaan Faasil) is a college kid whose major concern in life is how to tell his childhood friend Anjali (Ahaana Krishna) that he loves her. He has an iPhone, is on Whatsapp all the time, goes out drinking with his friends and generally lives a carefree life made all the more secure by the fact that Steve's father George is a deputy superintendent of police in Thiruvananthapuram. This idyll is smashed when one day, Steve witnesses a stranger being attacked by men with scythes. Steve isn't able to stop them, but when the attackers leave their victim for dead, Steve takes the injured man to the hospital. It's here that he realizes there is more than what meets the eye. The man he helped is from a criminal gang and it's evident that George is very unhappy that his son has got mixed up in all this. Steve's misgivings intensify when he's called to the police station to identify the attackers in a lineup and none of the men he'd seen are in that lineup. On his way back from the police station, Steve spots one of the scythe-wielding men in a car and decides to follow him. The man whom Steve is following, Hari (Sujit Shankar), seems to be unaware of the college kid tailing him, but of course, that's not really the case. Two of Hari's men knock Steve out. When he comes to, Steve finds himself bound and gagged in a room that overlooks Hari's home. Things become murkier when Hari says he's going to let Steve go and Steve realizes that Hari knows his father. All Steve wants to do is the right and humane thing by the people he encounters, but his acts of kindness just serve to muddle up the situation he's in terribly. Steve realises George and the police force are somehow involved with the gangs and are playing sides, possibly to maintain a peaceful status quo. However, no matter how many times Steve asks, George won't explain to his son precisely how the police are handling the situations. Inevitably, Steve realises that the bad guys have human sides and the police have terrible secrets, but no one has answers to the questions that Steve has. The more he investigates this case in which he has unwittingly become a critical pawn, the more dangerous things turn for him. Aside from Steve, no one seems blameless and yet, he is the one who seems to be suffering the most. Although some of the sequences, like the one in which Steve follows Hari home, can feel a little tedious, the film's tension is sustained by the mystery of how the police are connected to the gangs and whether Steve will be able to find answers to the questions his father refuses to even acknowledge.\n",
            "Release Year: 2014\n",
            "Title: Njan Steve Lopez\n"
          ]
        }
      ],
      "source": [
        "docs = filter_by_genre(query, docs)\n",
        "reranked_list = rerank_results(query, docs, 5)\n",
        "for d in reranked_list:\n",
        "  print(d.page_content)"
      ],
      "id": "JclLwANExdI8"
    }
  ],
  "metadata": {
    "colab": {
      "provenance": [],
      "collapsed_sections": [
        "UsobNJ5hbudb",
        "IzJccjzEbwOC",
        "yecVScl7cTjv",
        "XSMStesIcbQI",
        "cab772a9",
        "qyJTHNISc7b5"
      ]
    },
    "kernelspec": {
      "display_name": "Python 3",
      "name": "python3"
    },
    "language_info": {
      "codemirror_mode": {
        "name": "ipython",
        "version": 3
      },
      "file_extension": ".py",
      "mimetype": "text/x-python",
      "name": "python",
      "nbconvert_exporter": "python",
      "pygments_lexer": "ipython3",
      "version": "3.10.10"
    }
  },
  "nbformat": 4,
  "nbformat_minor": 5
}