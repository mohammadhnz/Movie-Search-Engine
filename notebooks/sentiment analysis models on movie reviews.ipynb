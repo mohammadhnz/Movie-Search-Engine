{
 "cells": [
  {
   "cell_type": "code",
   "execution_count": 1,
   "id": "357eee95-965d-471f-a6ac-95511c415cce",
   "metadata": {},
   "outputs": [],
   "source": [
    "import warnings\n",
    "warnings.filterwarnings('ignore')\n",
    "import os\n",
    "import time\n",
    "import pandas as pd\n",
    "from transformers import pipeline\n",
    "import torch\n",
    "from tqdm.notebook import tqdm\n",
    "\n",
    "device = torch.device('cuda' if torch.cuda.is_available() else 'cpu')"
   ]
  },
  {
   "cell_type": "markdown",
   "id": "ce9df566-5a4f-4762-9e20-6958b619460c",
   "metadata": {},
   "source": [
    "# sentiment analysis"
   ]
  },
  {
   "cell_type": "code",
   "execution_count": 2,
   "id": "5ffa2f53-0aaf-40ff-bcf7-b3577dc6f355",
   "metadata": {},
   "outputs": [],
   "source": [
    "def sentiment_analyze_data(input_df_path, model, output_path):\n",
    "    df = pd.read_csv(input_df_path)\n",
    "    res = pd.DataFrame(columns=df.columns.values)\n",
    "    res.to_csv(output_path, mode=\"w\", index=False, header=True)\n",
    "    batch_size = 128\n",
    "    \n",
    "    t = tqdm(range(len(df) // batch_size + 1))\n",
    "    print(t)\n",
    "    for i in t:\n",
    "        start_index = i * batch_size\n",
    "        end_index = min(len(df), (i + 1) * batch_size)\n",
    "        comments = list(df.loc[start_index:end_index, \"Content\"].apply(str))\n",
    "        labels = [x[\"label\"] for x in model(comments)]\n",
    "        res = df.loc[start_index:end_index].reset_index(drop=True)\n",
    "        res[\"Content\"] = labels\n",
    "        res.to_csv(output_path, mode=\"a\", index=False, header=False)"
   ]
  },
  {
   "cell_type": "markdown",
   "id": "0cb22741-dcfe-4e74-9949-0af2d6073523",
   "metadata": {},
   "source": [
    "# model 1"
   ]
  },
  {
   "cell_type": "code",
   "execution_count": 3,
   "id": "d7ba973f-2a67-4f57-b870-345decaf50fb",
   "metadata": {},
   "outputs": [],
   "source": [
    "model_name = \"lxyuan/distilbert-base-multilingual-cased-sentiments-student\"\n",
    "model1 = pipeline(\"sentiment-analysis\", model=model_name,tokenizer=model_name, max_length=512,truncation=True, device=device)"
   ]
  },
  {
   "cell_type": "code",
   "execution_count": 4,
   "id": "e1f1f227-1e72-4223-959a-03fc064bae18",
   "metadata": {},
   "outputs": [
    {
     "data": {
      "application/vnd.jupyter.widget-view+json": {
       "model_id": "880af5c6953e43388081b01eabf3fc55",
       "version_major": 2,
       "version_minor": 0
      },
      "text/plain": [
       "  0%|          | 0/40 [00:00<?, ?it/s]"
      ]
     },
     "metadata": {},
     "output_type": "display_data"
    },
    {
     "name": "stdout",
     "output_type": "stream",
     "text": [
      "  0%|          | 0/40 [00:00<?, ?it/s]\n"
     ]
    }
   ],
   "source": [
    "sentiment_analyze_data(\"reviews/reviews first 5000.csv\", model1, \"reviews/reviews first 5000 - sentiment lxyuan-distilbert.csv\")"
   ]
  },
  {
   "cell_type": "markdown",
   "id": "7927d7b2-144c-4df5-b37b-632de98bc6ac",
   "metadata": {},
   "source": [
    "# model 2"
   ]
  },
  {
   "cell_type": "code",
   "execution_count": 5,
   "id": "9d49ffcb-e5c7-4d6f-a46c-7690886dc870",
   "metadata": {},
   "outputs": [
    {
     "name": "stderr",
     "output_type": "stream",
     "text": [
      "emoji is not installed, thus not converting emoticons or emojis into text. Install emoji: pip3 install emoji==0.6.0\n"
     ]
    }
   ],
   "source": [
    "model_name = \"finiteautomata/bertweet-base-sentiment-analysis\"\n",
    "model2 = pipeline(\"sentiment-analysis\", model=model_name,tokenizer=model_name, max_length=512,truncation=True, device=device)"
   ]
  },
  {
   "cell_type": "code",
   "execution_count": 6,
   "id": "b866a8d7-16b3-40b2-9659-eabdbf0ebbaf",
   "metadata": {},
   "outputs": [
    {
     "data": {
      "application/vnd.jupyter.widget-view+json": {
       "model_id": "c06b1f7394e446c7a488f997bf5e9a75",
       "version_major": 2,
       "version_minor": 0
      },
      "text/plain": [
       "  0%|          | 0/40 [00:00<?, ?it/s]"
      ]
     },
     "metadata": {},
     "output_type": "display_data"
    },
    {
     "name": "stdout",
     "output_type": "stream",
     "text": [
      "  0%|          | 0/40 [00:00<?, ?it/s]\n"
     ]
    }
   ],
   "source": [
    "sentiment_analyze_data(\"reviews/reviews first 5000.csv\", model1, \"reviews/reviews first 5000 - sentiment finiteautomata-bertweet-base.csv\")"
   ]
  },
  {
   "cell_type": "markdown",
   "id": "65f67377-680d-4ec5-9ddd-77da00b352ba",
   "metadata": {},
   "source": [
    "# model 3"
   ]
  },
  {
   "cell_type": "code",
   "execution_count": 7,
   "id": "5002aefb-7c1e-4e56-9a48-d43deb189e7b",
   "metadata": {},
   "outputs": [],
   "source": [
    "model_name = \"cardiffnlp/twitter-roberta-base-sentiment\"\n",
    "model3 = pipeline(\"sentiment-analysis\", model=model_name,tokenizer=model_name, max_length=512,truncation=True, device=device)"
   ]
  },
  {
   "cell_type": "code",
   "execution_count": 8,
   "id": "a2bc04ea-444b-4e45-99b8-6353479ef691",
   "metadata": {},
   "outputs": [
    {
     "data": {
      "application/vnd.jupyter.widget-view+json": {
       "model_id": "3270e46bc90b44f2a359faf1d8adb769",
       "version_major": 2,
       "version_minor": 0
      },
      "text/plain": [
       "  0%|          | 0/40 [00:00<?, ?it/s]"
      ]
     },
     "metadata": {},
     "output_type": "display_data"
    },
    {
     "name": "stdout",
     "output_type": "stream",
     "text": [
      "  0%|          | 0/40 [00:00<?, ?it/s]\n"
     ]
    }
   ],
   "source": [
    "sentiment_analyze_data(\"reviews/reviews first 5000.csv\", model1, \"reviews/reviews first 5000 - cardiffnlp-twitter-roberta.csv\")"
   ]
  }
 ],
 "metadata": {
  "kernelspec": {
   "display_name": "Python 3 (ipykernel)",
   "language": "python",
   "name": "python3"
  },
  "language_info": {
   "codemirror_mode": {
    "name": "ipython",
    "version": 3
   },
   "file_extension": ".py",
   "mimetype": "text/x-python",
   "name": "python",
   "nbconvert_exporter": "python",
   "pygments_lexer": "ipython3",
   "version": "3.10.0"
  }
 },
 "nbformat": 4,
 "nbformat_minor": 5
}
