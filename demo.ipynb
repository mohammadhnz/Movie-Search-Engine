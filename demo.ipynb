{
 "cells": [
  {
   "cell_type": "code",
   "execution_count": 1,
   "metadata": {},
   "outputs": [],
   "source": [
    "!pip install -r requirements.txt -U"
   ]
  },
  {
   "cell_type": "code",
   "execution_count": 2,
   "metadata": {},
   "outputs": [],
   "source": [
    "!cd datasets && chmod +x download.sh && ./download.sh"
   ]
  },
  {
   "cell_type": "code",
   "execution_count": 3,
   "metadata": {},
   "outputs": [],
   "source": [
    "!python dataset.py"
   ]
  },
  {
   "cell_type": "code",
   "execution_count": 4,
   "metadata": {},
   "outputs": [],
   "source": [
    "!python vectorize.py"
   ]
  },
  {
   "cell_type": "code",
   "execution_count": 5,
   "metadata": {},
   "outputs": [],
   "source": [
    "from query import get_rag, query\n",
    "\n",
    "rag = get_rag()"
   ]
  },
  {
   "cell_type": "code",
   "execution_count": 6,
   "metadata": {},
   "outputs": [],
   "source": [
    "print(query(rag, \"I want a movie about a man who his partner and started communicating with an artificial intelligence to fill his emotional void.\"))"
   ]
  },
  {
   "cell_type": "code",
   "execution_count": 7,
   "metadata": {},
   "outputs": [
    {
     "data": {
      "text/plain": [
       "{'game of thrones': {'opened movie title': 'Game of Thrones',\n",
       "  'movie main page url': 'https://www.imdb.com/title/tt0944947/?ref_=fn_al_tt_1',\n",
       "  'movie rating': '9.2',\n",
       "  'total ratings num': '2.3M',\n",
       "  'all reviews num': '5',\n",
       "  'reviews': [{'rating': ('0', '10'),\n",
       "    'title': 'Amazing',\n",
       "    'date': '11 November 2023',\n",
       "    'content': 'What can be said about Game of Thrones that hasn\\'t already been said? It\\'s universally thought of as one of the best series in the history of television. Look up any \"best shows ever\" list and I promise you\\'ll find Game of Thrones near the top of every list you\\'ll find. Obviously everyone knows the last episode was absolutely awful, even most of the actors have come out and said they didn\\'t like it. Having said that, it doesn\\'t take away from the show being amazing. One bad show doesn\\'t take away from the other 72 episodes that were almost perfect! I\\'ve watched the entire series all the way through twice now and if anything I just appreciate this show even more.'},\n",
       "   {'rating': ('8', '10'),\n",
       "    'title': 'Seasons 1-6: outstanding. 7: daft but good. 8: disappointing',\n",
       "    'date': '21 May 2019',\n",
       "    'content': \"Let's say you're reading these reviews and haven't watched GoT yet, but now that it's finished are considering the marathon. What's the consensus? In this case, the consensus is accurate, and that is:<br><br>Seasons 1-6: outstanding. Deep world-building, intelligent dialogue, epic set-pieces worthy of Hollywood, expert acting, detailed plotting, genuine surprises, great soundtrack used sparingly. GoT is worth watching for these seasons, definitely.<br><br>Season 7: you suddenly notice the writing and plotting has taken a sharp dive downwards in quality. There are inexplicable ideas, inconsistent characterisation and soap-opera dramas. But at least the entertainment value is still very high, so it gets a pass.<br><br>Season 8: this drop chasms down to depths you didn't think possible. The writing has got so amateurish that the still-fantastic production values are no longer enough to save it. If you ever enjoyed Lost but were amazed at how bad the final season was, you're in familiar territory here.<br><br>The biggest problem with the final season was it took us out of the story and got us thinking about its many weaknesses. We lost our suspension of disbelief. Fatal for fiction. It also ruined the series-arcs to the point where a rewatch of the entire series is pointless.<br><br>So can I recommend a GoT marathon for newcomers? Yes, the first 6 seasons are worth the disappointments later on. But best series of all time it is not. It could've been, but dropping the ball in the final stretch puts it behind the following superior series more worthy of your marathon:<br><br><ul><li>Battlestar Galactica (2003-2008)</li><li>Twin Peaks (all 3 seasons, plus the movie)</li><li>Breaking Bad</li></ul>\"},\n",
       "   {'rating': ('0', '10'),\n",
       "    'title': 'One of the best shows ever',\n",
       "    'date': '10 December 2023',\n",
       "    'content': \"You know a lot people say this about a ton of different shows but Game of Thrones is absolutely, without a doubt, one of the best TV shows ever created...it's damn near perfect (except for maybe the last few episodes of the last season) and easily one of my all-time favorite shows! Yeah, the last few episodes of Season 8 weren't that good and the ending was just awful but the first 7 1/2 seasons were so amazing that it still gets a 10 from me! It's one of the rare shows where I can watch it all the way from the first episode to the last and never get bored. I'm pretty sure there's never been a show more talked about or more loved in the history of television than GOT. All you have to do is read through the reviews to see how loved this show really is! It's absolutely amazing.\"},\n",
       "   {'rating': ('0', '10'),\n",
       "    'title': 'Can you just make the remake the season finale?',\n",
       "    'date': '9 April 2020',\n",
       "    'content': \"I'm feeling so heartbroken to see everyone criticising my favourite show of all time. And yes of course that's because of the bad making of the season finale, I can totally understand that. After all these years hardwork, creating and developing each and every character from bottom to top, memories, emotions throughout the process all went to vain for one bad making. It's so painful to accept it for the audience who invested lots of time watching the show from the starting and then finishing it like this! It's a long long journey. I don't even remember the day I started watching it and since then I waited the next year to come for the new season. I can't say anything more. Only one last request, could you please delete the whole season 8 and make a new version of it? Please?\"},\n",
       "   {'rating': ('0', '10'),\n",
       "    'title': 'This is a television show?',\n",
       "    'date': '9 November 2017',\n",
       "    'content': \"Was over-time on a gradual binge of watching 'Game of Thrones' from the first episode (gradual because of being so busy), having heard nothing but amazing things about it from friends, family and IMDb reviewers. Plus with such a great cast of talent and a brilliant book series, how could it possibly go wrong? <br><br>The good news is that 'Game of Thrones' didn't go wrong. Quite the opposite. Not only is it a rare television show that does its original source material justice and treats it with respect but it is on its own merits one of the finest, most addictive and consistently compelling shows in recent years. A television show so brilliant that one has to actually check that it was made for television when everything is done to such a high level that it puts many films made today to shame. This is one of the strongest examples of an acclaimed show that deserves every ounce of the praise it's garnered.<br><br>Visually, 'Game of Thrones' looks amazing. The scenery is throughout spectacular, the sets are hugely atmospheric and beautiful on the eyes with a real meticulous eye for detail and the costumes suit the characters to a tee. Then there are the special effects that are some of the best of any television programme and are not overused or abused, the scale, the detail and how they actually have character and soul are better than those in a lot of the big-budget blockbusters. As well the cinematography and editing, which are cinematic quality as well.<br><br>One cannot talk about 'Game of Thrones' without mentioning the thematically, orchestrally and atmospherically multi-layered music scoring and the unforgettable main theme. Again, worthy of a high-budget fantasy/action/drama film.<br><br>It is hard not to be bowled over by the quality of the writing, outstanding isn't a strong enough adjective to describe how good the writing is. It always has a natural flow, is layered and thought-provoking and demonstrates a wide range of emotions such as suspenseful tension, poignant pathos and witty humour. The story-lines are paced so beautifully, structured with such nuance and attention to coherence, a high emotional level and touch upon complex and sensitive themes with intelligence and tact.<br><br>Whenever there's a set-piece or more action-oriented scene there's always a reason, never there for the sake of it. Not only are the set-pieces done with a lot epic scale, superb staging, excitement and dramatic tension but underneath all the scale and flashy attention to detail there is a lot of heart and a multi-layered one. They're not overlong, nor are there out of place elements.<br><br>Characters are a huge part of the appeal too. 'Game of Thrones' has characters that are so well developed and as close to real life as one can get despite being in a fantasy world. These characters are not hero and villain archetypes (Joffrey is the only one close to that, the difference though is that he is an extremely interesting one with a lot of development who ranks well beyond one hundred percent on the threat level scale), they have much more to them and have strengths and flaws. Decisions are logical and one doesn't like any character any less when a decision is not the right one because mistakes are acknowledged and learnt from.<br><br>'Game of Thrones' cast is full of talented names and, thanks to so well rounded characters and such great writing, nothing but the very best is gotten out of them. Even those who are not favourites of mine. Big acting standouts are Peter Dinklage, Sean Bean, Lena Headey and Jack Gleeson (Joffrey being the king of all young characters with not a redeeming bone in their body).<br><br>In conclusion, absolutely outstanding and a rare television show worthy of being a cinematic modern classic. This review may sound superlatively hyperbolic, but to me 'Game of Thrones' is that good. 10/10 Bethany Cox\"},\n",
       "   {'rating': ('9', '10'),\n",
       "    'title': 'Captivating and Gripping but a Disappointing Final Season',\n",
       "    'date': '6 February 2023',\n",
       "    'content': \"Game of Thrones boasts an intricate plot with complex characters, stunning cinematography, and intense action sequences, especially its many battles and fights. It's hard to deny that it wasn't a cultural phenomenon that captivated me and many others for eight seasons.<br><br>I've rated Game of Thrones a nine out of ten for its well-written and multi-layered storytelling, and its fantastic production value. However, despite still having amazing visuals and extremely high production value, like many fans, I was disappointed and to an extent frustrated by the final season's storytelling and how certain plot points were handled, which has lowered my rating from a ten to a nine. Despite this, Game of Thrones still remains for me a must-watch series and I would still highly recommend it to any fan of the fantasy or drama genre in general.\"},\n",
       "   {'rating': ('8', '10'),\n",
       "    'title': 'A perfect example of: Falling in Love with the Wrong Guy',\n",
       "    'date': '25 May 2019',\n",
       "    'content': 'It was a master piece. It was written to the perfection. It was mesmerizing. It was gripping. It was so shocking that if someone is binge watching this show he/she will need a time-off in between to get their head around things and accept some messed up, yet mind blowing development.<br><br>But yet, I cant hate it enough after final season. Its like you came to know that you were in love with the wrong one all along. It was like looking at a completely different person. It was like seeing your own dreams and expectations get destroyed. It was not a let down, it was a BETRAYAL!'},\n",
       "   {'rating': ('9', '10'),\n",
       "    'title': 'Game of Thrones',\n",
       "    'date': '10 May 2019',\n",
       "    'content': \"I would give this an easy 10/10.. if season 8 didn't exist. But it does, unfortunately.<br><br>Season 1-6 10/10 Amazing, complex dialogue and intriguing logical story lines with strong character developments, shocking emotional moments and insane action scenes.<br><br>Season 7- 8/10 - still really good but seemed rushed and had some illogical moments that made no sense like the Ayra/Sansa fall out and the time/teleporting issues beyond the wall which revealed some lazy writing. But all in all filled with great moments and good set up for the final season.<br><br>Season 8- 2/10. I actually don't know where or start. Season 8 is a joke. Terrible writing. Nothing makes sense. The writers have butchered most character developments and given hardly any satisfying conclusions to their story arcs.<br><br><ul><li>Brans story had no pay off at all and his whole role as the 3 eyed raven proved pointless against the Night King.</li></ul><br><br><ul><li>Jaime's redemption arc was cut off instantly with real no reason.</li></ul><br><br><ul><li>The Night Kings death was underwhelming. Infact all of episode 3 was poor, with no real structure and poorly written end to the main story line of the show. The battle was shockingly illogical and horrendous tactics. Zero white walker fights, limited deaths and ridiculous plot armour. Also editing was poor- some moments characters would be surrounded by hundreds of wights but then the next shot they were all gone. The plot armour ruined the battle of Winterfell. 'All' the Dothraki wiped out in seconds yet Samwell Tarly can fend them off. Laughable.</li></ul><br><br><ul><li>No Sansa and Cersei interaction of any sort which I would have liked to have seen. Although I appreciate this is just my personal disappointment rather than poor writing.</li></ul><br><br>-Rhaegal taken down by first 3 shots, yet Drogon dodges an Iron fleets worth of Scorpions at Kings Landing, just to serve the plot. I guess Euron forgot about Dany's dragon and her forces.<br><br>-Jon does nothing all season (why was he resurrected if he didn't end the long night or atleast become King? The whole point of his resurrection is because the lord of light claimed he was needed alive). Speaking of Jon, what was the point of his lineage? It didn't change anything apart from give us unconvincing tension between him and Danaerys. I kind of like Danaerys going mad but it needed a lot more time and thought put into it - It went too far too fast with no substantial development to justify her killing thousands of innocent people. Again, Laughable. It needed seasons of planning and transitioning her character. After Dany's death it just skipped to Tyrion's trial and no one seemed phased over her death.<br><br><ul><li>Anything that required any thought from the Writers was done off screen, like Arya and Sansa finding out about Jon's lineage.</li></ul><br><br><ul><li>Cersei, the clever mastermind who always has a deceitful plan up her sleeve does nothing but stand looking out of a window all season. What a waste of a character.</li></ul><br><br><ul><li>Ayra does not use her faceless abilities. How cool would it have been for something like Ayra shockingly kills Jaime in order to get his face and uses it to get close to cersei, she thinks she is safe then is stabbed whilst in the arms of her 'brother' who reveals to be Ayra. Atleast something like that may have been more satisfying a few bricks falling onto her.</li></ul><br><br><ul><li>Bran becomes king. Urghhh. He literally said countless times he could not be lord of winterfell or rule anymore. Why the sudden change of heart? No explanation? Oh typical.</li></ul><br><br><ul><li>Prince that was promised? Oh yeh let's forget about that too. Haha we fooled you audience.</li></ul><br><br>However, my main issue was not with what happened but with how it all happened. Rushed and made no sense.<br><br>Major let downs and bad dialogue throughout. There are some good moments like Brienne being Knighted, but even that becomes ruined when she sleeps with Jaime- their relationship was so much nicer just being about honour and respect for one another. Have to appreciate effort by cast, visual and music crew and the few decent scenes as a whole.<br><br>Overall- 9/10 purely on S1-7.\"},\n",
       "   {'rating': ('9', '10'),\n",
       "    'title': 'Extraordinary untill season 8',\n",
       "    'date': '19 May 2020',\n",
       "    'content': \"This is the first series i would recommend to anybody , it is an amazing piece of work , the most stunning TV series you will ever watch.\\nWhy i gave it 9/10 because of the last season, it's still good but very disappointing compared to all the seasons. YOU will enjoy every episode\"},\n",
       "   {'rating': ('0', '10'),\n",
       "    'title': \"It's over at S6\",\n",
       "    'date': '25 March 2020',\n",
       "    'content': 'Daenerys leaves for Westeros and you assume the rest.'},\n",
       "   {'rating': ('6', '10'),\n",
       "    'title': 'Imagine an Ice Cream Shop',\n",
       "    'date': '2 November 2019',\n",
       "    'content': \"So imagine you go into an ice cream shop and you order a sundae. They've got all kinds of nice stuff going on, beautiful delicious soft serve vanilla bean ice cream, some hot fudge, freshly cracked up peanuts, woah what is that?? A brownie? Some delicious house made whipped cream... Man this sundae is gonna be spectacular. Wow what more could you ask for? Cherry on top? Bring it on!!<br><br>And then all of a sudden they put an anchovy on top, and then another, and then a couple more, and then squirt some Dijon mustard on for good measure.<br><br>You don't even want the sundae anymore, in fact, you can't even look back on how nice that sundae used to be without thinking about all the stupid s*** they did at the very end just when it was going so well.<br><br>That's essentially Game of Thrones. I tried to rewatch it, but as I got through the first season I began looking at where all the pieces land at the end it's literally impossible to go back to. There are just so many ruined character arcs, so much pointlessness, and every time I come back here I drop it one more star it seems like. Game of Thrones is a beautiful anchovy sundae.\"},\n",
       "   {'rating': ('7', '10'),\n",
       "    'title': 'Shame of Thrones',\n",
       "    'date': '24 May 2019',\n",
       "    'content': \"The ending of this series is a disservice to the public!<br><br>The first seasons are great as they are based on the books source material and, apparently, the writers are good enough at adapting other people ideas. After season four there's a decline, not so manifest at first since the goodness of the source material still lingers around. It's more of a slow deterioration, a spiral into shallow writing that peaks in a last season devoid of content and value.\\nWhere at first grand scale developments, societal issues and world-spanning intrigues dominated the narration with characters being the pawns of the true overarching story, later in the seasons characters and stereotypical interactions take the stage and the interesting, long developing issues that made the story captivating get resolved in the most unrewarding ways possible. It's incoherent, detached, uninspired writing. It's everything that is bad in mainstream media.<br><br>All of this because the writers decided they had enough with the show and grew bored with it. So they wanted to wrap it up as soon as possible in order to go on and ruin the Star Wars franchise (more than it already is). Thanks for your disservice!<br><br>It needs to be mentioned that the overall production, sound design, acting, cinematography, all of these are quite extraordinary and elevate the show quite a bit, even when the writing declines. The quality is amazing. It probably is still worth watching for its entertainment value. It just doesn't pay off. The ending season ruins quite literally everything.\"},\n",
       "   {'rating': ('0', '10'),\n",
       "    'title': 'A Need Fulfilled',\n",
       "    'date': '6 January 2018',\n",
       "    'content': 'I am writing this because according to the IMDB User Ratings, I have not commented. I have reviewed all the individual episodes, but not the show as a whole. There is little that I can add to the impact of this show. I am proud to be on the same planet as those who created and put this work into fruition. When one looks at the technical accomplishments and the multiple plot strains that have been kept in balance, it is truly a wonder. I know that there are those who can never get past the \"book did this\" and \"the book did that.\" We have to come to realize that it is impossible to recreate every nuance that fiction allows and that occasionally characters must be dropped and events assumed. For me, I have approached these as the artistic creations they are--as film (and television, at that). I have the books. I\\'ve not read them but plan to at some point. I doubt at this late stage of my life there will ever be another series to match this. I like fantasy but am not ruled by it as a genre. But this is for us all. If you\\'ve not seen it, treat yourself.'},\n",
       "   {'rating': ('9', '10'),\n",
       "    'title': 'A long time coming',\n",
       "    'date': '2 January 2020',\n",
       "    'content': 'So I succesfully avoided major spoilers about the show and could binge watch this since the complete Box set came out in early December. The first season was a bit overwhelming, what with all the houses and characters thrown at you. As you may be able to tell, I have not read the source material. Not sure who of the cast had read it beforehand either. So bare that in mind.<br><br>Now the line Winter is coming is something everyone associates with the show, I just never expected this to come up so early in the show. What is surprising, at least during the first seasons of the show, is how many supposedly main characters fail to survive. This keeps the viewers on their tows. Towards the end of the show this gets a bit watered down. Not sure how much influence the original author had there (he had only written material for the first 6 seasons of the show, the rest was made up).<br><br>Having said that, you can feel a drop in quality. And while I have friend who thought the second season was boring (it\\'s a bit of a travelling show and things get stretched quite a bit), if he continued to watch, he might feel even worse with the last seasons. Even though they are shorter (episode wise, not time wise per episode), they feel stretched even more.<br><br>Also the conclusion (no worries, I\\'m not telling) is anticlimatic to say the least. It feels bad and the continuity errors are just thrown aside. So if not for the epic battles and the actors, who are all really amazing in this, I might have gone farther down with my vote. Then again, if it wasn\\'t for the last season specifically, I might have given it a 10 too ... A prequel show has been axed for now (not sure if the bad reviews and or numbers for the last season played a role), but I would watch it. This achieved overall something that \"The Reign\" could not: combine violence, fantasy and nudity into something mature/adult that works for men and women watching'},\n",
       "   {'rating': ('9', '10'),\n",
       "    'title': 'It could have been the best TV series ever made...',\n",
       "    'date': '12 May 2020',\n",
       "    'content': 'Till season 7 very likely the best TV show ever made in terms of suspense, character development, plot, effects, acting.... 10/10 with no doubt! But S6E10 is probably the point where you should stop and imagine your own ending. It is guaranteed better and has more character development. Otherwise you may end up rating it down by more than just one and are overcome by disappointment...'},\n",
       "   {'rating': ('8', '10'),\n",
       "    'title': 'Fantasy has never seemed so real',\n",
       "    'date': '22 July 2014',\n",
       "    'content': 'I don\\'t believe there has ever been anything like \\'Game of Thrones\\' on TV. The sheer amount of quality and talent in this series is staggering. The actors (and I mean really ALL the actors), the costumes, the visual effects, the make-up: everybody working on this show seems to have wanted to make Television-history. And the writing is just phenomenal.<br><br>\\'Game of Thrones\\' may belong to the \\'Fantasy\\' genre, but the world of Westeros and its surrounding lands has been so amazingly well thought through and is inhabited by characters that are so well drawn and credible that everything you watch feels real. Every \"country\", every city, tribe or family has such a richly detailed history and even mythology that it just never feels like it was made up. Of course, that was all already there in the books – but translating that so perfectly to a TV-show and with such care as was done here really is a rare achievement.<br><br>Yet for all its grandeur, scale and breath-taking visuals, what really makes Martin\\'s outstanding work come to life on the small screen is the fantastic ensemble of actors. At the core of this show (any show, really) are the characters. Tyrion, Cersei, Dany, Jamie and John (and all the – many – others) don\\'t lose anything of their complexity; the amazing cast succeeds in showing all their respective characters\\' inner conflicts and often questionable motivations and virtually no one comes across as one-dimensional (except maybe for Joffrey).<br><br>There have been a couple of great TV-shows over the last years, but when it comes to scale AND quality, \\'Game of Thrones\\' is – at the moment – in a league of its own. A joy to watch: breath-taking, epic – and highly addictive – Television. 10 stars out of 10.<br><br>Lesser-known Masterpieces: http://www.imdb.com/list/ls070242495/<br><br>Favorite Films: http://www.IMDb.com/list/mkjOKvqlSBs/<br><br>Favorite Low-Budget and B-movies: http://www.imdb.com/list/ls054808375/<br><br>Favorite TV-Shows reviewed: http://www.imdb.com/list/ls075552387/'},\n",
       "   {'rating': ('0', '10'),\n",
       "    'title': 'GOT',\n",
       "    'date': '23 May 2020',\n",
       "    'content': \"At first I did not want to watch the series.\\nBut once I started watching it, I couldn't stop.\\nIt became more and more exciting from season 1-8.<br><br>Great actors.<br><br>I was disappointed with the end of the 8 season!\"},\n",
       "   {'rating': ('0', '10'),\n",
       "    'title': 'Excellent adaptation.',\n",
       "    'date': '17 April 2011',\n",
       "    'content': \"Readers who come to this review later in the series must note that, at the time of this writing, I have only seen the inaugural episode. <br><br>It's probably safe to say, when dealing with a series of novels as beloved as The Song of Ice and Fire, the most scrutinized aspect of the T.V. adaptation will be how well it holds to the source material. I am here to confirm, as a fierce devotee to the books, that we have nothing to fear.<br><br>While certain scenes play out differently in execution, the plot remains perfectly intact (so far). The characters have been transplanted well from page to screen, and the actors (most notably Peter Dinklage) nailed their personalities quite well. However; it is only fair to point out some of the acting seemed a little wooden at times.<br><br>Special effects were well done, though nothing mind-blowing, but the scenery and props perfectly captured the feel of the novels (in my mind at least). It also must be noted that there was just the right amount of nudity, violence and vulgarity to let the audience know they were watching a tale woven for mature viewers without using said nudity, violence and vulgarity as a crutch.<br><br>All and all, I am very, very pleased with this adaptation, and I went into it expecting to be disappointed. If I were to gripe about anything, it would be that newcomers who have not read the books might not know what to think of this fantasy story for adults. Some may shrug it off as fodder for geeks, while others might take offence to what they may see as a defiling of a genre usually meant for children.<br><br>UPDATE<br><br>After watching the entire first season, I can safely say this is perhaps the BEST adaptation of book into film/TV. While many moments in the show do not match the moments in the book action for action and word for word, the plot is never sacrificed when doing this, and the alterations simply make the story a better fit for a one-hour television time slot.<br><br>In addition, new scenes (by which I mean scenes which never happened in the book at all) fit seamlessly into the greater plot, and help the audience with information they would only otherwise get via the narrative of the novel (EG: asides which explain character/world history).<br><br>Top form, HBO. Top form.\"},\n",
       "   {'rating': ('0', '10'),\n",
       "    'title': 'The most epic/greatest thing ever!',\n",
       "    'date': '3 April 2020',\n",
       "    'content': \"Literally nothing can match the level of intensity like the show every season has literally one or two groundbreaking episodes each and every scene tells more with the picture and talking the fights the story the buildup the music the screenplay the acting the visuals each and everything was epic and never seen before wonder!from night king to iron throne to starks and lannisters every thing was beautifully written!no wonder greatest quotes are present in here too!politics and war was like i am playing that in real life such impact full it is!Although ending 3 episodes did'nt quite felt satisfying but it was digestable!not a perfect ending yet the greatest show of all time!\"},\n",
       "   {'rating': ('7', '10'),\n",
       "    'title': 'Great Beginning, WORST Ending!',\n",
       "    'date': '20 May 2019',\n",
       "    'content': 'Started off as the greatest series of all time, but had the worst ending of all time.'},\n",
       "   {'rating': ('0', '10'),\n",
       "    'title': 'A modern classic on an epic scale',\n",
       "    'date': '10 January 2020',\n",
       "    'content': \"This epic series is set in a fantasy world like no other I can think of. It has the look of medieval Europe with rival families manoeuvring to take the Iron Throne on which the Kings of Westeros sit. As the series begins Robert Baratheon is the king and he invites this friend Ned Stark to be his Hand, most trusted advisor. This leads to Ned, his wife and daughters; Sansa and Arya, moving to the capital... it isn't long before they are caught up in court intrigue. Robert's wife is involved with her own brother; it is learnt that the children of the last slain king are still alive... and there are rumours that the dead are returning to life north of the wall in the far north, where Ned's illegitimate son Jon is stationed. They are expected to attack next winter!<br><br>As the series progresses rival families fight each other, form and break alliances. Other characters work for personal advancement knowing that if the move to soon or side with the wrong people their lives will soon be over. The villains are truly villainous; the heroes aren't as clear cut as one might expect. The cast of major characters is huge and events in the first season shockingly show that even those set up as lead characters can be killed off. There are fantasy elements; most notably three dragons belonging to Daenerys Targaryen; the White Walkers (the Army of the Dead); and magic of Melisandre, the Red Woman but for the most part things are gritty and real. Often that means brutal violence, quite a bit of nudity and lots of swearing... this of course means that the series won't be for everybody; however if you don't turn off in disgust in the opening few episodes you'll probably want to watch it all and love it. The cast does a phenomenal job; this includes many established actors as well as up and coming stars and people for whom this was their first acting job such as young actresses Sophie Turner and Maisie Williams who play Sansa and Arya Stark who's characters develop across many seasons in ways one wouldn't imagine when it started. There is also a stellar performance from Peter Dinklage who plays dwarf Tyrion Lannister; a character that dominates just about every scene he is in despite his diminutive size. Others who must be mentioned are Sean Bean, Emilia Clarke, Kit Harrington, Lena Headey, Aiden Gillen, Charles Dance and Jack Gleeson... to be honest I could go on listing almost everybody in it! The special effects are fantastic; one could almost believe that dragons are real after watching this. The world in which the series is set is filmed in a wide range of countries giving it a very real feel... gone are the days when a major US series set in numerous locations will be filmed entirely in Southern California or the Pacific North West! Overall I can only say 'Watch this' as I loved it from start to finish.\"},\n",
       "   {'rating': ('0', '10'),\n",
       "    'title': 'One of the best series ever made',\n",
       "    'date': '8 March 2020',\n",
       "    'content': 'For me it\\'s one of the best series ever made and yes I know about the polemic last season but to be honest the last season had amazing episodes with amazing scenes, obviously that it was a rushed final but that was only HBO fault, about the ending I think it was a good and expectable ending , keep in mind that the last books haven\\'t came out yet so the producers didn\\'t have books to follow like in the previous seasons and they consulted the creator about the end and followed the lines that he gave to them, the final is like the own creator said it would be... bittersweet!\\nBut let\\'s not allow that to ruin this iconic series that will always be a classic. You know how great this was when the big question is: \"Which serie will become the next Game of Thrones?\". This is just legendary!'},\n",
       "   {'rating': ('0', '10'),\n",
       "    'title': 'Dt',\n",
       "    'date': '16 June 2020',\n",
       "    'content': 'Great show with dragons, sex, fighting, dwarfs and cooking tips'},\n",
       "   {'rating': ('8', '10'),\n",
       "    'title': 'the best TV show in history',\n",
       "    'date': '3 June 2020',\n",
       "    'content': 'An epic series, most of the actors mastered their characters despite the bad season, that it is still the best TV show in history'}]}}"
      ]
     },
     "execution_count": 7,
     "metadata": {},
     "output_type": "execute_result"
    }
   ],
   "source": [
    "from movieReviewsRetriever import get_movies_reviews\n",
    "\n",
    "get_movies_reviews([\"game of thrones\"], 5)"
   ]
  }
 ],
 "metadata": {
  "kernelspec": {
   "display_name": "Python 3 (ipykernel)",
   "language": "python",
   "name": "python3"
  },
  "language_info": {
   "codemirror_mode": {
    "name": "ipython",
    "version": 3
   },
   "file_extension": ".py",
   "mimetype": "text/x-python",
   "name": "python",
   "nbconvert_exporter": "python",
   "pygments_lexer": "ipython3",
   "version": "3.10.0"
  }
 },
 "nbformat": 4,
 "nbformat_minor": 4
}
